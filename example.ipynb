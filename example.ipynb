{
 "cells": [
  {
   "cell_type": "code",
   "id": "initial_id",
   "metadata": {
    "collapsed": true,
    "ExecuteTime": {
     "end_time": "2024-07-31T18:58:26.716492Z",
     "start_time": "2024-07-31T18:58:26.704036Z"
    }
   },
   "source": [
    "import numpy as np\n",
    "import matplotlib.pyplot as plt\n",
    "import torch\n",
    "from src.utils import set_seed"
   ],
   "outputs": [],
   "execution_count": 256
  },
  {
   "metadata": {
    "ExecuteTime": {
     "end_time": "2024-07-31T18:58:26.937138Z",
     "start_time": "2024-07-31T18:58:26.929096Z"
    }
   },
   "cell_type": "code",
   "source": "set_seed(42)",
   "id": "5e2a272b8994cf48",
   "outputs": [
    {
     "name": "stdout",
     "output_type": "stream",
     "text": [
      "Random seed 42 has been set.\n"
     ]
    }
   ],
   "execution_count": 257
  },
  {
   "metadata": {
    "ExecuteTime": {
     "end_time": "2024-07-31T18:58:26.984165Z",
     "start_time": "2024-07-31T18:58:26.976355Z"
    }
   },
   "cell_type": "code",
   "source": "x_1 = np.random.normal(0, 1, 25000)",
   "id": "a739ddfe4db3fa0c",
   "outputs": [],
   "execution_count": 258
  },
  {
   "metadata": {
    "ExecuteTime": {
     "end_time": "2024-07-31T18:58:27.014149Z",
     "start_time": "2024-07-31T18:58:26.996111Z"
    }
   },
   "cell_type": "code",
   "source": "u_1 = np.random.uniform(-1, 1, 25000)",
   "id": "5fcc035031ac3d01",
   "outputs": [],
   "execution_count": 259
  },
  {
   "metadata": {
    "ExecuteTime": {
     "end_time": "2024-07-31T18:58:27.045358Z",
     "start_time": "2024-07-31T18:58:27.035742Z"
    }
   },
   "cell_type": "code",
   "source": "r_x = np.exp(x_1)/(1+np.exp(x_1))",
   "id": "20dae0216d6ec363",
   "outputs": [],
   "execution_count": 260
  },
  {
   "metadata": {
    "ExecuteTime": {
     "end_time": "2024-07-31T18:58:27.091046Z",
     "start_time": "2024-07-31T18:58:27.081544Z"
    }
   },
   "cell_type": "code",
   "source": "",
   "id": "d3eadafe7c15536e",
   "outputs": [],
   "execution_count": 260
  },
  {
   "metadata": {
    "ExecuteTime": {
     "end_time": "2024-07-31T18:58:27.138357Z",
     "start_time": "2024-07-31T18:58:27.124092Z"
    }
   },
   "cell_type": "code",
   "source": [
    "alpha = 1\n",
    "Y = np.where(x_1 + alpha * u_1 > 0, 1, 0)\n"
   ],
   "id": "501abfbc60b13d67",
   "outputs": [],
   "execution_count": 261
  },
  {
   "metadata": {
    "ExecuteTime": {
     "end_time": "2024-07-31T18:58:27.373911Z",
     "start_time": "2024-07-31T18:58:27.171749Z"
    }
   },
   "cell_type": "code",
   "source": [
    "human_predictions = [0] * len(Y)\n",
    "for i in range(len(Y)):\n",
    "        coin = np.random.binomial(1, np.min([3*r_x[i], .90]), 1)[0]\n",
    "        if coin == 1:\n",
    "            human_predictions[i] = Y[i]\n",
    "        else:\n",
    "            human_predictions[i] = 1 - Y[i]\n",
    "H = np.array(human_predictions)"
   ],
   "id": "2f8515cd0b916297",
   "outputs": [],
   "execution_count": 262
  },
  {
   "metadata": {
    "ExecuteTime": {
     "end_time": "2024-07-31T18:58:27.388918Z",
     "start_time": "2024-07-31T18:58:27.376565Z"
    }
   },
   "cell_type": "code",
   "source": "binned = np.digitize(r_x, np.linspace(0, 1, 40))",
   "id": "113152a8ee615c52",
   "outputs": [],
   "execution_count": 263
  },
  {
   "metadata": {
    "ExecuteTime": {
     "end_time": "2024-07-31T18:58:27.403897Z",
     "start_time": "2024-07-31T18:58:27.389916Z"
    }
   },
   "cell_type": "code",
   "source": [
    "import pandas as pd\n",
    "df = pd.DataFrame({'r_x': r_x, 'H': H, 'Y': Y, 'binned': binned, 'correct_hum': H==Y,})"
   ],
   "id": "76f155c6ed4a185c",
   "outputs": [],
   "execution_count": 264
  },
  {
   "metadata": {
    "ExecuteTime": {
     "end_time": "2024-07-31T18:58:27.418648Z",
     "start_time": "2024-07-31T18:58:27.405407Z"
    }
   },
   "cell_type": "code",
   "source": "df_1 = df.groupby('binned').mean().reset_index()",
   "id": "9b0aceaef1d4917e",
   "outputs": [],
   "execution_count": 265
  },
  {
   "metadata": {
    "ExecuteTime": {
     "end_time": "2024-07-31T18:58:27.434605Z",
     "start_time": "2024-07-31T18:58:27.419640Z"
    }
   },
   "cell_type": "code",
   "source": "df_1",
   "id": "46286e062f7f655c",
   "outputs": [
    {
     "data": {
      "text/plain": [
       "    binned       r_x         H         Y  correct_hum\n",
       "0        1  0.022167  1.000000  0.000000     0.000000\n",
       "1        2  0.042726  0.869565  0.000000     0.130435\n",
       "2        3  0.065474  0.787402  0.000000     0.212598\n",
       "3        4  0.091317  0.740000  0.000000     0.260000\n",
       "4        5  0.116084  0.640264  0.000000     0.359736\n",
       "5        6  0.141331  0.564039  0.000000     0.435961\n",
       "6        7  0.167733  0.502137  0.000000     0.497863\n",
       "7        8  0.192296  0.416529  0.000000     0.583471\n",
       "8        9  0.217543  0.334884  0.000000     0.665116\n",
       "9       10  0.243811  0.270092  0.000000     0.729908\n",
       "10      11  0.269681  0.172762  0.010088     0.834805\n",
       "11      12  0.295611  0.179278  0.060536     0.874272\n",
       "12      13  0.320506  0.202260  0.140113     0.908475\n",
       "13      14  0.346674  0.241453  0.178419     0.904915\n",
       "14      15  0.371823  0.283925  0.239040     0.917537\n",
       "15      16  0.397735  0.320896  0.278252     0.897655\n",
       "16      17  0.423060  0.368526  0.332669     0.908367\n",
       "17      18  0.448814  0.383562  0.363992     0.882583\n",
       "18      19  0.474426  0.485629  0.447968     0.890981\n",
       "19      20  0.500371  0.526465  0.524575     0.894140\n",
       "20      21  0.525712  0.552555  0.562199     0.890068\n",
       "21      22  0.551447  0.602899  0.621256     0.919807\n",
       "22      23  0.576895  0.638298  0.664640     0.904762\n",
       "23      24  0.602650  0.678919  0.723243     0.916757\n",
       "24      25  0.627787  0.705466  0.743927     0.919028\n",
       "25      26  0.653899  0.768212  0.831126     0.899558\n",
       "26      27  0.679156  0.802071  0.876870     0.906789\n",
       "27      28  0.705020  0.871981  0.935990     0.921498\n",
       "28      29  0.730272  0.900000  0.996154     0.903846\n",
       "29      30  0.756726  0.889037  1.000000     0.889037\n",
       "30      31  0.782004  0.908815  1.000000     0.908815\n",
       "31      32  0.807291  0.911565  1.000000     0.911565\n",
       "32      33  0.833070  0.909256  1.000000     0.909256\n",
       "33      34  0.858788  0.891139  1.000000     0.891139\n",
       "34      35  0.883877  0.879257  1.000000     0.879257\n",
       "35      36  0.909859  0.862745  1.000000     0.862745\n",
       "36      37  0.933694  0.864078  1.000000     0.864078\n",
       "37      38  0.957034  0.933333  1.000000     0.933333\n",
       "38      39  0.982408  1.000000  1.000000     1.000000"
      ],
      "text/html": [
       "<div>\n",
       "<style scoped>\n",
       "    .dataframe tbody tr th:only-of-type {\n",
       "        vertical-align: middle;\n",
       "    }\n",
       "\n",
       "    .dataframe tbody tr th {\n",
       "        vertical-align: top;\n",
       "    }\n",
       "\n",
       "    .dataframe thead th {\n",
       "        text-align: right;\n",
       "    }\n",
       "</style>\n",
       "<table border=\"1\" class=\"dataframe\">\n",
       "  <thead>\n",
       "    <tr style=\"text-align: right;\">\n",
       "      <th></th>\n",
       "      <th>binned</th>\n",
       "      <th>r_x</th>\n",
       "      <th>H</th>\n",
       "      <th>Y</th>\n",
       "      <th>correct_hum</th>\n",
       "    </tr>\n",
       "  </thead>\n",
       "  <tbody>\n",
       "    <tr>\n",
       "      <th>0</th>\n",
       "      <td>1</td>\n",
       "      <td>0.022167</td>\n",
       "      <td>1.000000</td>\n",
       "      <td>0.000000</td>\n",
       "      <td>0.000000</td>\n",
       "    </tr>\n",
       "    <tr>\n",
       "      <th>1</th>\n",
       "      <td>2</td>\n",
       "      <td>0.042726</td>\n",
       "      <td>0.869565</td>\n",
       "      <td>0.000000</td>\n",
       "      <td>0.130435</td>\n",
       "    </tr>\n",
       "    <tr>\n",
       "      <th>2</th>\n",
       "      <td>3</td>\n",
       "      <td>0.065474</td>\n",
       "      <td>0.787402</td>\n",
       "      <td>0.000000</td>\n",
       "      <td>0.212598</td>\n",
       "    </tr>\n",
       "    <tr>\n",
       "      <th>3</th>\n",
       "      <td>4</td>\n",
       "      <td>0.091317</td>\n",
       "      <td>0.740000</td>\n",
       "      <td>0.000000</td>\n",
       "      <td>0.260000</td>\n",
       "    </tr>\n",
       "    <tr>\n",
       "      <th>4</th>\n",
       "      <td>5</td>\n",
       "      <td>0.116084</td>\n",
       "      <td>0.640264</td>\n",
       "      <td>0.000000</td>\n",
       "      <td>0.359736</td>\n",
       "    </tr>\n",
       "    <tr>\n",
       "      <th>5</th>\n",
       "      <td>6</td>\n",
       "      <td>0.141331</td>\n",
       "      <td>0.564039</td>\n",
       "      <td>0.000000</td>\n",
       "      <td>0.435961</td>\n",
       "    </tr>\n",
       "    <tr>\n",
       "      <th>6</th>\n",
       "      <td>7</td>\n",
       "      <td>0.167733</td>\n",
       "      <td>0.502137</td>\n",
       "      <td>0.000000</td>\n",
       "      <td>0.497863</td>\n",
       "    </tr>\n",
       "    <tr>\n",
       "      <th>7</th>\n",
       "      <td>8</td>\n",
       "      <td>0.192296</td>\n",
       "      <td>0.416529</td>\n",
       "      <td>0.000000</td>\n",
       "      <td>0.583471</td>\n",
       "    </tr>\n",
       "    <tr>\n",
       "      <th>8</th>\n",
       "      <td>9</td>\n",
       "      <td>0.217543</td>\n",
       "      <td>0.334884</td>\n",
       "      <td>0.000000</td>\n",
       "      <td>0.665116</td>\n",
       "    </tr>\n",
       "    <tr>\n",
       "      <th>9</th>\n",
       "      <td>10</td>\n",
       "      <td>0.243811</td>\n",
       "      <td>0.270092</td>\n",
       "      <td>0.000000</td>\n",
       "      <td>0.729908</td>\n",
       "    </tr>\n",
       "    <tr>\n",
       "      <th>10</th>\n",
       "      <td>11</td>\n",
       "      <td>0.269681</td>\n",
       "      <td>0.172762</td>\n",
       "      <td>0.010088</td>\n",
       "      <td>0.834805</td>\n",
       "    </tr>\n",
       "    <tr>\n",
       "      <th>11</th>\n",
       "      <td>12</td>\n",
       "      <td>0.295611</td>\n",
       "      <td>0.179278</td>\n",
       "      <td>0.060536</td>\n",
       "      <td>0.874272</td>\n",
       "    </tr>\n",
       "    <tr>\n",
       "      <th>12</th>\n",
       "      <td>13</td>\n",
       "      <td>0.320506</td>\n",
       "      <td>0.202260</td>\n",
       "      <td>0.140113</td>\n",
       "      <td>0.908475</td>\n",
       "    </tr>\n",
       "    <tr>\n",
       "      <th>13</th>\n",
       "      <td>14</td>\n",
       "      <td>0.346674</td>\n",
       "      <td>0.241453</td>\n",
       "      <td>0.178419</td>\n",
       "      <td>0.904915</td>\n",
       "    </tr>\n",
       "    <tr>\n",
       "      <th>14</th>\n",
       "      <td>15</td>\n",
       "      <td>0.371823</td>\n",
       "      <td>0.283925</td>\n",
       "      <td>0.239040</td>\n",
       "      <td>0.917537</td>\n",
       "    </tr>\n",
       "    <tr>\n",
       "      <th>15</th>\n",
       "      <td>16</td>\n",
       "      <td>0.397735</td>\n",
       "      <td>0.320896</td>\n",
       "      <td>0.278252</td>\n",
       "      <td>0.897655</td>\n",
       "    </tr>\n",
       "    <tr>\n",
       "      <th>16</th>\n",
       "      <td>17</td>\n",
       "      <td>0.423060</td>\n",
       "      <td>0.368526</td>\n",
       "      <td>0.332669</td>\n",
       "      <td>0.908367</td>\n",
       "    </tr>\n",
       "    <tr>\n",
       "      <th>17</th>\n",
       "      <td>18</td>\n",
       "      <td>0.448814</td>\n",
       "      <td>0.383562</td>\n",
       "      <td>0.363992</td>\n",
       "      <td>0.882583</td>\n",
       "    </tr>\n",
       "    <tr>\n",
       "      <th>18</th>\n",
       "      <td>19</td>\n",
       "      <td>0.474426</td>\n",
       "      <td>0.485629</td>\n",
       "      <td>0.447968</td>\n",
       "      <td>0.890981</td>\n",
       "    </tr>\n",
       "    <tr>\n",
       "      <th>19</th>\n",
       "      <td>20</td>\n",
       "      <td>0.500371</td>\n",
       "      <td>0.526465</td>\n",
       "      <td>0.524575</td>\n",
       "      <td>0.894140</td>\n",
       "    </tr>\n",
       "    <tr>\n",
       "      <th>20</th>\n",
       "      <td>21</td>\n",
       "      <td>0.525712</td>\n",
       "      <td>0.552555</td>\n",
       "      <td>0.562199</td>\n",
       "      <td>0.890068</td>\n",
       "    </tr>\n",
       "    <tr>\n",
       "      <th>21</th>\n",
       "      <td>22</td>\n",
       "      <td>0.551447</td>\n",
       "      <td>0.602899</td>\n",
       "      <td>0.621256</td>\n",
       "      <td>0.919807</td>\n",
       "    </tr>\n",
       "    <tr>\n",
       "      <th>22</th>\n",
       "      <td>23</td>\n",
       "      <td>0.576895</td>\n",
       "      <td>0.638298</td>\n",
       "      <td>0.664640</td>\n",
       "      <td>0.904762</td>\n",
       "    </tr>\n",
       "    <tr>\n",
       "      <th>23</th>\n",
       "      <td>24</td>\n",
       "      <td>0.602650</td>\n",
       "      <td>0.678919</td>\n",
       "      <td>0.723243</td>\n",
       "      <td>0.916757</td>\n",
       "    </tr>\n",
       "    <tr>\n",
       "      <th>24</th>\n",
       "      <td>25</td>\n",
       "      <td>0.627787</td>\n",
       "      <td>0.705466</td>\n",
       "      <td>0.743927</td>\n",
       "      <td>0.919028</td>\n",
       "    </tr>\n",
       "    <tr>\n",
       "      <th>25</th>\n",
       "      <td>26</td>\n",
       "      <td>0.653899</td>\n",
       "      <td>0.768212</td>\n",
       "      <td>0.831126</td>\n",
       "      <td>0.899558</td>\n",
       "    </tr>\n",
       "    <tr>\n",
       "      <th>26</th>\n",
       "      <td>27</td>\n",
       "      <td>0.679156</td>\n",
       "      <td>0.802071</td>\n",
       "      <td>0.876870</td>\n",
       "      <td>0.906789</td>\n",
       "    </tr>\n",
       "    <tr>\n",
       "      <th>27</th>\n",
       "      <td>28</td>\n",
       "      <td>0.705020</td>\n",
       "      <td>0.871981</td>\n",
       "      <td>0.935990</td>\n",
       "      <td>0.921498</td>\n",
       "    </tr>\n",
       "    <tr>\n",
       "      <th>28</th>\n",
       "      <td>29</td>\n",
       "      <td>0.730272</td>\n",
       "      <td>0.900000</td>\n",
       "      <td>0.996154</td>\n",
       "      <td>0.903846</td>\n",
       "    </tr>\n",
       "    <tr>\n",
       "      <th>29</th>\n",
       "      <td>30</td>\n",
       "      <td>0.756726</td>\n",
       "      <td>0.889037</td>\n",
       "      <td>1.000000</td>\n",
       "      <td>0.889037</td>\n",
       "    </tr>\n",
       "    <tr>\n",
       "      <th>30</th>\n",
       "      <td>31</td>\n",
       "      <td>0.782004</td>\n",
       "      <td>0.908815</td>\n",
       "      <td>1.000000</td>\n",
       "      <td>0.908815</td>\n",
       "    </tr>\n",
       "    <tr>\n",
       "      <th>31</th>\n",
       "      <td>32</td>\n",
       "      <td>0.807291</td>\n",
       "      <td>0.911565</td>\n",
       "      <td>1.000000</td>\n",
       "      <td>0.911565</td>\n",
       "    </tr>\n",
       "    <tr>\n",
       "      <th>32</th>\n",
       "      <td>33</td>\n",
       "      <td>0.833070</td>\n",
       "      <td>0.909256</td>\n",
       "      <td>1.000000</td>\n",
       "      <td>0.909256</td>\n",
       "    </tr>\n",
       "    <tr>\n",
       "      <th>33</th>\n",
       "      <td>34</td>\n",
       "      <td>0.858788</td>\n",
       "      <td>0.891139</td>\n",
       "      <td>1.000000</td>\n",
       "      <td>0.891139</td>\n",
       "    </tr>\n",
       "    <tr>\n",
       "      <th>34</th>\n",
       "      <td>35</td>\n",
       "      <td>0.883877</td>\n",
       "      <td>0.879257</td>\n",
       "      <td>1.000000</td>\n",
       "      <td>0.879257</td>\n",
       "    </tr>\n",
       "    <tr>\n",
       "      <th>35</th>\n",
       "      <td>36</td>\n",
       "      <td>0.909859</td>\n",
       "      <td>0.862745</td>\n",
       "      <td>1.000000</td>\n",
       "      <td>0.862745</td>\n",
       "    </tr>\n",
       "    <tr>\n",
       "      <th>36</th>\n",
       "      <td>37</td>\n",
       "      <td>0.933694</td>\n",
       "      <td>0.864078</td>\n",
       "      <td>1.000000</td>\n",
       "      <td>0.864078</td>\n",
       "    </tr>\n",
       "    <tr>\n",
       "      <th>37</th>\n",
       "      <td>38</td>\n",
       "      <td>0.957034</td>\n",
       "      <td>0.933333</td>\n",
       "      <td>1.000000</td>\n",
       "      <td>0.933333</td>\n",
       "    </tr>\n",
       "    <tr>\n",
       "      <th>38</th>\n",
       "      <td>39</td>\n",
       "      <td>0.982408</td>\n",
       "      <td>1.000000</td>\n",
       "      <td>1.000000</td>\n",
       "      <td>1.000000</td>\n",
       "    </tr>\n",
       "  </tbody>\n",
       "</table>\n",
       "</div>"
      ]
     },
     "execution_count": 266,
     "metadata": {},
     "output_type": "execute_result"
    }
   ],
   "execution_count": 266
  },
  {
   "metadata": {
    "ExecuteTime": {
     "end_time": "2024-07-31T18:58:27.449264Z",
     "start_time": "2024-07-31T18:58:27.435606Z"
    }
   },
   "cell_type": "code",
   "source": [
    "from sklearn.metrics import accuracy_score\n",
    "\n",
    "accuracy_score(Y[x_1<.5], H[x_1<.5])"
   ],
   "id": "90753d3f5c98bb30",
   "outputs": [
    {
     "data": {
      "text/plain": [
       "0.8246283764243161"
      ]
     },
     "execution_count": 267,
     "metadata": {},
     "output_type": "execute_result"
    }
   ],
   "execution_count": 267
  },
  {
   "metadata": {
    "ExecuteTime": {
     "end_time": "2024-07-31T18:58:27.465253Z",
     "start_time": "2024-07-31T18:58:27.450256Z"
    }
   },
   "cell_type": "code",
   "source": "",
   "id": "919c41b2ea66260b",
   "outputs": [],
   "execution_count": 267
  },
  {
   "metadata": {
    "ExecuteTime": {
     "end_time": "2024-07-31T18:58:27.480800Z",
     "start_time": "2024-07-31T18:58:27.467291Z"
    }
   },
   "cell_type": "code",
   "source": "",
   "id": "68613f67733068a4",
   "outputs": [],
   "execution_count": 267
  },
  {
   "metadata": {
    "ExecuteTime": {
     "end_time": "2024-07-31T18:58:27.496192Z",
     "start_time": "2024-07-31T18:58:27.481803Z"
    }
   },
   "cell_type": "code",
   "source": "",
   "id": "210486b45590298",
   "outputs": [],
   "execution_count": 267
  },
  {
   "metadata": {
    "ExecuteTime": {
     "end_time": "2024-07-31T18:58:27.511462Z",
     "start_time": "2024-07-31T18:58:27.498236Z"
    }
   },
   "cell_type": "code",
   "source": "",
   "id": "aa81da1d4d451175",
   "outputs": [],
   "execution_count": 267
  },
  {
   "metadata": {
    "ExecuteTime": {
     "end_time": "2024-07-31T18:58:27.526284Z",
     "start_time": "2024-07-31T18:58:27.512458Z"
    }
   },
   "cell_type": "code",
   "source": "",
   "id": "b203b5f18befa9cd",
   "outputs": [],
   "execution_count": 267
  },
  {
   "metadata": {
    "ExecuteTime": {
     "end_time": "2024-07-31T18:58:27.557095Z",
     "start_time": "2024-07-31T18:58:27.527401Z"
    }
   },
   "cell_type": "code",
   "source": [
    "from torch.utils.data import DataLoader, TensorDataset\n",
    "from sklearn.model_selection import train_test_split\n",
    "\n",
    "X = x_1\n",
    "Y = Y\n",
    "X_train, X_test, Y_train, Y_test, H_train, H_test = train_test_split(X, Y, H, stratify=Y, test_size=0.2, random_state=42)\n",
    "X_train, X_cal, Y_train, Y_cal, H_train, H_cal = train_test_split(X_train, Y_train, H_train, stratify=Y_train, test_size=0.125, random_state=42)\n",
    "X_train = torch.tensor(X_train).float().view(-1, 1)\n",
    "Y_train = torch.tensor(Y_train).long()\n",
    "X_test = torch.tensor(X_test).float().view(-1, 1)\n",
    "Y_test = torch.tensor(Y_test).long()\n",
    "X_cal = torch.tensor(X_cal).float().view(-1, 1)\n",
    "Y_cal = torch.tensor(Y_cal).long()\n",
    "H_train = torch.tensor(H_train).long()\n",
    "H_test = torch.tensor(H_test).long()\n",
    "H_cal = torch.tensor(H_cal).long()\n",
    "train_dataset = TensorDataset(X_train, Y_train, H_train)\n",
    "cal_dataset = TensorDataset(X_cal, Y_cal, H_cal)\n",
    "test_dataset = TensorDataset(X_test, Y_test, H_test)\n",
    "train_loader = DataLoader(train_dataset, batch_size=128, shuffle=True)\n",
    "cal_loader = DataLoader(cal_dataset, batch_size=128, shuffle=False)\n",
    "test_loader = DataLoader(test_dataset, batch_size=128, shuffle=False)"
   ],
   "id": "9e7f9fe89d646ce2",
   "outputs": [],
   "execution_count": 268
  },
  {
   "metadata": {
    "ExecuteTime": {
     "end_time": "2024-07-31T18:58:27.572071Z",
     "start_time": "2024-07-31T18:58:27.559090Z"
    }
   },
   "cell_type": "code",
   "source": "",
   "id": "f5191c4419aabee7",
   "outputs": [],
   "execution_count": 269
  },
  {
   "metadata": {
    "ExecuteTime": {
     "end_time": "2024-07-31T18:58:27.588065Z",
     "start_time": "2024-07-31T18:58:27.573069Z"
    }
   },
   "cell_type": "code",
   "source": "",
   "id": "2f8492cceffe8bbb",
   "outputs": [],
   "execution_count": 270
  },
  {
   "metadata": {
    "ExecuteTime": {
     "end_time": "2024-07-31T18:58:27.603039Z",
     "start_time": "2024-07-31T18:58:27.589062Z"
    }
   },
   "cell_type": "code",
   "source": "H_train.shape",
   "id": "b88e97e2395f1868",
   "outputs": [
    {
     "data": {
      "text/plain": [
       "torch.Size([17500])"
      ]
     },
     "execution_count": 271,
     "metadata": {},
     "output_type": "execute_result"
    }
   ],
   "execution_count": 271
  },
  {
   "metadata": {
    "ExecuteTime": {
     "end_time": "2024-07-31T18:58:27.618038Z",
     "start_time": "2024-07-31T18:58:27.604036Z"
    }
   },
   "cell_type": "code",
   "source": "",
   "id": "e00c7055c9a0e798",
   "outputs": [],
   "execution_count": 272
  },
  {
   "metadata": {
    "ExecuteTime": {
     "end_time": "2024-07-31T18:59:00.015574Z",
     "start_time": "2024-07-31T18:58:27.619036Z"
    }
   },
   "cell_type": "code",
   "source": "",
   "id": "79a0c014f75f0a4a",
   "outputs": [
    {
     "name": "stderr",
     "output_type": "stream",
     "text": [
      "  0%|          | 0/30 [00:00<?, ?it/s]C:\\Users\\andre\\OneDrive - University of Pisa\\postdoc\\projects\\PODS\\src\\baselines.py:1455: UserWarning: To copy construct from a tensor, it is recommended to use sourceTensor.clone().detach() or sourceTensor.clone().detach().requires_grad_(True), rather than torch.tensor(sourceTensor).\n",
      "  7%|▋         | 2/30 [00:01<00:19,  1.45it/s]C:\\Users\\andre\\anaconda3\\envs\\EmpiricalBenchmarks4SC\\lib\\site-packages\\numpy\\lib\\function_base.py:518: RuntimeWarning: Mean of empty slice.\n",
      "C:\\Users\\andre\\anaconda3\\envs\\EmpiricalBenchmarks4SC\\lib\\site-packages\\numpy\\core\\_methods.py:192: RuntimeWarning: invalid value encountered in scalar divide\n",
      " 10%|█         | 3/30 [00:02<00:28,  1.07s/it]C:\\Users\\andre\\OneDrive - University of Pisa\\postdoc\\projects\\PODS\\src\\baselines.py:1455: UserWarning: To copy construct from a tensor, it is recommended to use sourceTensor.clone().detach() or sourceTensor.clone().detach().requires_grad_(True), rather than torch.tensor(sourceTensor).\n",
      " 13%|█▎        | 4/30 [00:03<00:22,  1.14it/s]C:\\Users\\andre\\anaconda3\\envs\\EmpiricalBenchmarks4SC\\lib\\site-packages\\numpy\\lib\\function_base.py:518: RuntimeWarning: Mean of empty slice.\n",
      "C:\\Users\\andre\\anaconda3\\envs\\EmpiricalBenchmarks4SC\\lib\\site-packages\\numpy\\core\\_methods.py:192: RuntimeWarning: invalid value encountered in scalar divide\n",
      " 17%|█▋        | 5/30 [00:04<00:26,  1.05s/it]C:\\Users\\andre\\OneDrive - University of Pisa\\postdoc\\projects\\PODS\\src\\baselines.py:1455: UserWarning: To copy construct from a tensor, it is recommended to use sourceTensor.clone().detach() or sourceTensor.clone().detach().requires_grad_(True), rather than torch.tensor(sourceTensor).\n",
      " 20%|██        | 6/30 [00:05<00:21,  1.14it/s]C:\\Users\\andre\\anaconda3\\envs\\EmpiricalBenchmarks4SC\\lib\\site-packages\\numpy\\lib\\function_base.py:518: RuntimeWarning: Mean of empty slice.\n",
      "C:\\Users\\andre\\anaconda3\\envs\\EmpiricalBenchmarks4SC\\lib\\site-packages\\numpy\\core\\_methods.py:192: RuntimeWarning: invalid value encountered in scalar divide\n",
      " 23%|██▎       | 7/30 [00:06<00:22,  1.00it/s]C:\\Users\\andre\\OneDrive - University of Pisa\\postdoc\\projects\\PODS\\src\\baselines.py:1455: UserWarning: To copy construct from a tensor, it is recommended to use sourceTensor.clone().detach() or sourceTensor.clone().detach().requires_grad_(True), rather than torch.tensor(sourceTensor).\n",
      " 27%|██▋       | 8/30 [00:07<00:18,  1.19it/s]C:\\Users\\andre\\anaconda3\\envs\\EmpiricalBenchmarks4SC\\lib\\site-packages\\numpy\\lib\\function_base.py:518: RuntimeWarning: Mean of empty slice.\n",
      "C:\\Users\\andre\\anaconda3\\envs\\EmpiricalBenchmarks4SC\\lib\\site-packages\\numpy\\core\\_methods.py:192: RuntimeWarning: invalid value encountered in scalar divide\n",
      " 30%|███       | 9/30 [00:08<00:21,  1.02s/it]C:\\Users\\andre\\OneDrive - University of Pisa\\postdoc\\projects\\PODS\\src\\baselines.py:1455: UserWarning: To copy construct from a tensor, it is recommended to use sourceTensor.clone().detach() or sourceTensor.clone().detach().requires_grad_(True), rather than torch.tensor(sourceTensor).\n",
      " 33%|███▎      | 10/30 [00:09<00:17,  1.12it/s]C:\\Users\\andre\\anaconda3\\envs\\EmpiricalBenchmarks4SC\\lib\\site-packages\\numpy\\lib\\function_base.py:518: RuntimeWarning: Mean of empty slice.\n",
      "C:\\Users\\andre\\anaconda3\\envs\\EmpiricalBenchmarks4SC\\lib\\site-packages\\numpy\\core\\_methods.py:192: RuntimeWarning: invalid value encountered in scalar divide\n",
      " 37%|███▋      | 11/30 [00:10<00:20,  1.08s/it]C:\\Users\\andre\\OneDrive - University of Pisa\\postdoc\\projects\\PODS\\src\\baselines.py:1455: UserWarning: To copy construct from a tensor, it is recommended to use sourceTensor.clone().detach() or sourceTensor.clone().detach().requires_grad_(True), rather than torch.tensor(sourceTensor).\n",
      " 40%|████      | 12/30 [00:11<00:16,  1.08it/s]C:\\Users\\andre\\anaconda3\\envs\\EmpiricalBenchmarks4SC\\lib\\site-packages\\numpy\\lib\\function_base.py:518: RuntimeWarning: Mean of empty slice.\n",
      "C:\\Users\\andre\\anaconda3\\envs\\EmpiricalBenchmarks4SC\\lib\\site-packages\\numpy\\core\\_methods.py:192: RuntimeWarning: invalid value encountered in scalar divide\n",
      " 43%|████▎     | 13/30 [00:12<00:18,  1.09s/it]C:\\Users\\andre\\OneDrive - University of Pisa\\postdoc\\projects\\PODS\\src\\baselines.py:1455: UserWarning: To copy construct from a tensor, it is recommended to use sourceTensor.clone().detach() or sourceTensor.clone().detach().requires_grad_(True), rather than torch.tensor(sourceTensor).\n",
      " 47%|████▋     | 14/30 [00:13<00:14,  1.08it/s]C:\\Users\\andre\\anaconda3\\envs\\EmpiricalBenchmarks4SC\\lib\\site-packages\\numpy\\lib\\function_base.py:518: RuntimeWarning: Mean of empty slice.\n",
      "C:\\Users\\andre\\anaconda3\\envs\\EmpiricalBenchmarks4SC\\lib\\site-packages\\numpy\\core\\_methods.py:192: RuntimeWarning: invalid value encountered in scalar divide\n",
      " 50%|█████     | 15/30 [00:14<00:16,  1.09s/it]C:\\Users\\andre\\OneDrive - University of Pisa\\postdoc\\projects\\PODS\\src\\baselines.py:1455: UserWarning: To copy construct from a tensor, it is recommended to use sourceTensor.clone().detach() or sourceTensor.clone().detach().requires_grad_(True), rather than torch.tensor(sourceTensor).\n",
      " 53%|█████▎    | 16/30 [00:15<00:13,  1.04it/s]C:\\Users\\andre\\anaconda3\\envs\\EmpiricalBenchmarks4SC\\lib\\site-packages\\numpy\\lib\\function_base.py:518: RuntimeWarning: Mean of empty slice.\n",
      "C:\\Users\\andre\\anaconda3\\envs\\EmpiricalBenchmarks4SC\\lib\\site-packages\\numpy\\core\\_methods.py:192: RuntimeWarning: invalid value encountered in scalar divide\n",
      " 57%|█████▋    | 17/30 [00:16<00:15,  1.16s/it]C:\\Users\\andre\\OneDrive - University of Pisa\\postdoc\\projects\\PODS\\src\\baselines.py:1455: UserWarning: To copy construct from a tensor, it is recommended to use sourceTensor.clone().detach() or sourceTensor.clone().detach().requires_grad_(True), rather than torch.tensor(sourceTensor).\n",
      " 60%|██████    | 18/30 [00:17<00:12,  1.02s/it]C:\\Users\\andre\\anaconda3\\envs\\EmpiricalBenchmarks4SC\\lib\\site-packages\\numpy\\lib\\function_base.py:518: RuntimeWarning: Mean of empty slice.\n",
      "C:\\Users\\andre\\anaconda3\\envs\\EmpiricalBenchmarks4SC\\lib\\site-packages\\numpy\\core\\_methods.py:192: RuntimeWarning: invalid value encountered in scalar divide\n",
      " 63%|██████▎   | 19/30 [00:19<00:13,  1.20s/it]C:\\Users\\andre\\OneDrive - University of Pisa\\postdoc\\projects\\PODS\\src\\baselines.py:1455: UserWarning: To copy construct from a tensor, it is recommended to use sourceTensor.clone().detach() or sourceTensor.clone().detach().requires_grad_(True), rather than torch.tensor(sourceTensor).\n",
      " 67%|██████▋   | 20/30 [00:19<00:10,  1.03s/it]C:\\Users\\andre\\anaconda3\\envs\\EmpiricalBenchmarks4SC\\lib\\site-packages\\numpy\\lib\\function_base.py:518: RuntimeWarning: Mean of empty slice.\n",
      "C:\\Users\\andre\\anaconda3\\envs\\EmpiricalBenchmarks4SC\\lib\\site-packages\\numpy\\core\\_methods.py:192: RuntimeWarning: invalid value encountered in scalar divide\n",
      " 70%|███████   | 21/30 [00:21<00:10,  1.19s/it]C:\\Users\\andre\\OneDrive - University of Pisa\\postdoc\\projects\\PODS\\src\\baselines.py:1455: UserWarning: To copy construct from a tensor, it is recommended to use sourceTensor.clone().detach() or sourceTensor.clone().detach().requires_grad_(True), rather than torch.tensor(sourceTensor).\n",
      " 73%|███████▎  | 22/30 [00:22<00:08,  1.05s/it]C:\\Users\\andre\\anaconda3\\envs\\EmpiricalBenchmarks4SC\\lib\\site-packages\\numpy\\lib\\function_base.py:518: RuntimeWarning: Mean of empty slice.\n",
      "C:\\Users\\andre\\anaconda3\\envs\\EmpiricalBenchmarks4SC\\lib\\site-packages\\numpy\\core\\_methods.py:192: RuntimeWarning: invalid value encountered in scalar divide\n",
      " 77%|███████▋  | 23/30 [00:23<00:08,  1.20s/it]C:\\Users\\andre\\OneDrive - University of Pisa\\postdoc\\projects\\PODS\\src\\baselines.py:1455: UserWarning: To copy construct from a tensor, it is recommended to use sourceTensor.clone().detach() or sourceTensor.clone().detach().requires_grad_(True), rather than torch.tensor(sourceTensor).\n",
      " 80%|████████  | 24/30 [00:24<00:06,  1.04s/it]C:\\Users\\andre\\anaconda3\\envs\\EmpiricalBenchmarks4SC\\lib\\site-packages\\numpy\\lib\\function_base.py:518: RuntimeWarning: Mean of empty slice.\n",
      "C:\\Users\\andre\\anaconda3\\envs\\EmpiricalBenchmarks4SC\\lib\\site-packages\\numpy\\core\\_methods.py:192: RuntimeWarning: invalid value encountered in scalar divide\n",
      " 83%|████████▎ | 25/30 [00:25<00:05,  1.17s/it]C:\\Users\\andre\\OneDrive - University of Pisa\\postdoc\\projects\\PODS\\src\\baselines.py:1455: UserWarning: To copy construct from a tensor, it is recommended to use sourceTensor.clone().detach() or sourceTensor.clone().detach().requires_grad_(True), rather than torch.tensor(sourceTensor).\n",
      " 87%|████████▋ | 26/30 [00:26<00:04,  1.02s/it]C:\\Users\\andre\\anaconda3\\envs\\EmpiricalBenchmarks4SC\\lib\\site-packages\\numpy\\lib\\function_base.py:518: RuntimeWarning: Mean of empty slice.\n",
      "C:\\Users\\andre\\anaconda3\\envs\\EmpiricalBenchmarks4SC\\lib\\site-packages\\numpy\\core\\_methods.py:192: RuntimeWarning: invalid value encountered in scalar divide\n",
      " 90%|█████████ | 27/30 [00:28<00:03,  1.17s/it]C:\\Users\\andre\\OneDrive - University of Pisa\\postdoc\\projects\\PODS\\src\\baselines.py:1455: UserWarning: To copy construct from a tensor, it is recommended to use sourceTensor.clone().detach() or sourceTensor.clone().detach().requires_grad_(True), rather than torch.tensor(sourceTensor).\n",
      " 93%|█████████▎| 28/30 [00:28<00:02,  1.01s/it]C:\\Users\\andre\\anaconda3\\envs\\EmpiricalBenchmarks4SC\\lib\\site-packages\\numpy\\lib\\function_base.py:518: RuntimeWarning: Mean of empty slice.\n",
      "C:\\Users\\andre\\anaconda3\\envs\\EmpiricalBenchmarks4SC\\lib\\site-packages\\numpy\\core\\_methods.py:192: RuntimeWarning: invalid value encountered in scalar divide\n",
      " 97%|█████████▋| 29/30 [00:30<00:01,  1.20s/it]C:\\Users\\andre\\OneDrive - University of Pisa\\postdoc\\projects\\PODS\\src\\baselines.py:1455: UserWarning: To copy construct from a tensor, it is recommended to use sourceTensor.clone().detach() or sourceTensor.clone().detach().requires_grad_(True), rather than torch.tensor(sourceTensor).\n",
      "100%|██████████| 30/30 [00:31<00:00,  1.04s/it]\n",
      "C:\\Users\\andre\\anaconda3\\envs\\EmpiricalBenchmarks4SC\\lib\\site-packages\\numpy\\lib\\function_base.py:518: RuntimeWarning: Mean of empty slice.\n",
      "C:\\Users\\andre\\anaconda3\\envs\\EmpiricalBenchmarks4SC\\lib\\site-packages\\numpy\\core\\_methods.py:192: RuntimeWarning: invalid value encountered in scalar divide\n"
     ]
    }
   ],
   "execution_count": 273
  },
  {
   "metadata": {
    "ExecuteTime": {
     "end_time": "2024-07-31T18:59:00.031519Z",
     "start_time": "2024-07-31T18:59:00.017564Z"
    }
   },
   "cell_type": "code",
   "source": [
    "train_loader = DataLoader(train_dataset, batch_size=128, shuffle=True)\n",
    "for i, (x, y, h) in enumerate(train_loader):\n",
    "    print(x, y, h)\n",
    "    break"
   ],
   "id": "beb3b3d2d82e9b84",
   "outputs": [
    {
     "name": "stdout",
     "output_type": "stream",
     "text": [
      "tensor([[-1.1414],\n",
      "        [-0.4284],\n",
      "        [ 0.2529],\n",
      "        [ 1.7553],\n",
      "        [-1.8255],\n",
      "        [ 0.6970],\n",
      "        [ 1.2917],\n",
      "        [-0.1047],\n",
      "        [-0.3920],\n",
      "        [ 0.2233],\n",
      "        [ 0.5130],\n",
      "        [ 0.4255],\n",
      "        [ 1.3176],\n",
      "        [ 0.3320],\n",
      "        [ 2.8242],\n",
      "        [ 0.7876],\n",
      "        [ 1.2711],\n",
      "        [ 0.7219],\n",
      "        [-1.6124],\n",
      "        [-0.3329],\n",
      "        [-0.9742],\n",
      "        [ 0.7075],\n",
      "        [-1.8038],\n",
      "        [ 0.5818],\n",
      "        [-0.5094],\n",
      "        [ 1.7459],\n",
      "        [-0.7113],\n",
      "        [ 0.1670],\n",
      "        [-1.2331],\n",
      "        [ 0.1335],\n",
      "        [ 0.9686],\n",
      "        [-0.8857],\n",
      "        [-2.2012],\n",
      "        [-0.3747],\n",
      "        [ 1.1141],\n",
      "        [ 1.4528],\n",
      "        [ 0.9510],\n",
      "        [ 1.7634],\n",
      "        [ 0.5747],\n",
      "        [ 0.2455],\n",
      "        [ 1.0869],\n",
      "        [ 1.8054],\n",
      "        [ 0.6325],\n",
      "        [ 1.3745],\n",
      "        [ 0.4033],\n",
      "        [ 0.1681],\n",
      "        [-1.2396],\n",
      "        [ 0.9386],\n",
      "        [ 0.5672],\n",
      "        [-0.4463],\n",
      "        [-0.6542],\n",
      "        [ 1.4745],\n",
      "        [ 0.6456],\n",
      "        [ 0.9726],\n",
      "        [ 0.6765],\n",
      "        [-1.5444],\n",
      "        [-0.2022],\n",
      "        [-3.1704],\n",
      "        [-0.0968],\n",
      "        [-0.8963],\n",
      "        [ 0.5712],\n",
      "        [-0.1506],\n",
      "        [-0.9741],\n",
      "        [ 0.4794],\n",
      "        [ 1.4444],\n",
      "        [-1.7719],\n",
      "        [-1.5702],\n",
      "        [ 0.3709],\n",
      "        [-0.8185],\n",
      "        [-2.3182],\n",
      "        [-0.6202],\n",
      "        [ 0.5871],\n",
      "        [ 0.2032],\n",
      "        [-0.3232],\n",
      "        [-0.9122],\n",
      "        [-0.2031],\n",
      "        [ 0.0990],\n",
      "        [ 0.2898],\n",
      "        [-0.9426],\n",
      "        [-0.5529],\n",
      "        [ 0.7728],\n",
      "        [-1.0274],\n",
      "        [ 0.6082],\n",
      "        [ 1.0026],\n",
      "        [-1.4972],\n",
      "        [ 0.7491],\n",
      "        [ 0.2574],\n",
      "        [-0.4061],\n",
      "        [-1.0750],\n",
      "        [-1.5126],\n",
      "        [ 0.3482],\n",
      "        [ 0.2253],\n",
      "        [-0.7702],\n",
      "        [-0.5438],\n",
      "        [ 0.9955],\n",
      "        [-0.6211],\n",
      "        [-0.5726],\n",
      "        [-0.5183],\n",
      "        [-0.7669],\n",
      "        [ 0.0117],\n",
      "        [-0.0398],\n",
      "        [-1.3820],\n",
      "        [-0.1317],\n",
      "        [-1.1655],\n",
      "        [ 0.5252],\n",
      "        [ 0.3899],\n",
      "        [ 1.1196],\n",
      "        [-0.2936],\n",
      "        [-2.7738],\n",
      "        [ 0.1215],\n",
      "        [ 0.9347],\n",
      "        [ 1.5489],\n",
      "        [ 1.6629],\n",
      "        [ 1.8149],\n",
      "        [-1.0892],\n",
      "        [ 1.3785],\n",
      "        [ 1.0185],\n",
      "        [ 0.3288],\n",
      "        [ 2.4486],\n",
      "        [-0.2684],\n",
      "        [-0.3095],\n",
      "        [ 0.2385],\n",
      "        [-1.0851],\n",
      "        [-1.3130],\n",
      "        [-0.1688],\n",
      "        [-1.1275],\n",
      "        [-1.9324],\n",
      "        [ 0.4964]]) tensor([0, 0, 0, 1, 0, 1, 1, 0, 1, 0, 0, 0, 1, 1, 1, 1, 1, 1, 0, 0, 0, 1, 0, 1,\n",
      "        0, 1, 0, 1, 0, 1, 1, 0, 0, 0, 1, 1, 1, 1, 1, 0, 1, 1, 1, 1, 1, 1, 0, 1,\n",
      "        1, 0, 1, 1, 0, 1, 1, 0, 0, 0, 0, 0, 0, 0, 0, 1, 1, 0, 0, 1, 0, 0, 0, 1,\n",
      "        1, 1, 0, 0, 0, 0, 0, 0, 1, 0, 1, 1, 0, 1, 0, 0, 0, 0, 1, 0, 1, 1, 1, 0,\n",
      "        0, 0, 0, 1, 1, 0, 0, 0, 1, 0, 1, 0, 0, 0, 1, 1, 1, 1, 0, 1, 1, 1, 1, 1,\n",
      "        0, 0, 0, 0, 1, 0, 0, 1]) tensor([1, 0, 0, 1, 1, 1, 1, 0, 1, 0, 0, 0, 1, 0, 1, 1, 1, 1, 1, 0, 0, 1, 0, 1,\n",
      "        0, 1, 0, 1, 0, 1, 1, 1, 1, 0, 1, 1, 1, 1, 1, 0, 1, 1, 0, 1, 1, 1, 0, 1,\n",
      "        0, 0, 1, 1, 0, 1, 0, 1, 0, 1, 0, 0, 0, 0, 1, 1, 1, 0, 0, 1, 0, 0, 0, 0,\n",
      "        1, 1, 0, 0, 0, 0, 0, 0, 1, 0, 1, 1, 1, 1, 0, 1, 0, 1, 1, 0, 1, 1, 1, 0,\n",
      "        1, 0, 0, 1, 1, 0, 0, 0, 1, 1, 0, 1, 1, 0, 1, 1, 1, 0, 0, 0, 1, 1, 1, 1,\n",
      "        0, 0, 1, 1, 1, 0, 0, 1])\n"
     ]
    }
   ],
   "execution_count": 274
  },
  {
   "metadata": {
    "ExecuteTime": {
     "end_time": "2024-07-31T18:59:00.751500Z",
     "start_time": "2024-07-31T18:59:00.032515Z"
    }
   },
   "cell_type": "code",
   "source": "deferring_system_preds = model.test(test_loader)",
   "id": "5522181e4e4d9988",
   "outputs": [],
   "execution_count": 275
  },
  {
   "metadata": {
    "ExecuteTime": {
     "end_time": "2024-07-31T18:59:00.923464Z",
     "start_time": "2024-07-31T18:59:00.754612Z"
    }
   },
   "cell_type": "code",
   "source": [
    "rej_scores = deferring_system_preds[\"rej_score\"]\n",
    "deferring_system_preds['defers'].mean()\n",
    "plt.hist(rej_scores)"
   ],
   "id": "ba74a67090ba9f54",
   "outputs": [
    {
     "data": {
      "text/plain": [
       "(array([ 770.,  441.,  343.,  340.,  319.,  317.,  370.,  424.,  575.,\n",
       "        1101.]),\n",
       " array([-0.99984164, -0.82896832, -0.65809501, -0.4872217 , -0.31634838,\n",
       "        -0.14547507,  0.02539824,  0.19627156,  0.36714487,  0.53801818,\n",
       "         0.7088915 ]),\n",
       " <BarContainer object of 10 artists>)"
      ]
     },
     "execution_count": 276,
     "metadata": {},
     "output_type": "execute_result"
    },
    {
     "data": {
      "text/plain": [
       "<Figure size 640x480 with 1 Axes>"
      ],
      "image/png": "[encoded data removed]"
     },
     "metadata": {},
     "output_type": "display_data"
    }
   ],
   "execution_count": 276
  },
  {
   "metadata": {
    "ExecuteTime": {
     "end_time": "2024-07-31T18:59:00.939349Z",
     "start_time": "2024-07-31T18:59:00.926394Z"
    }
   },
   "cell_type": "code",
   "source": "preds = deferring_system_preds[\"preds\"]",
   "id": "af2a828c5b522dda",
   "outputs": [],
   "execution_count": 277
  },
  {
   "metadata": {
    "ExecuteTime": {
     "end_time": "2024-07-31T18:59:02.012906Z",
     "start_time": "2024-07-31T18:59:00.941347Z"
    }
   },
   "cell_type": "code",
   "source": "",
   "id": "6d4ab6caa10fd2d1",
   "outputs": [],
   "execution_count": 278
  },
  {
   "metadata": {
    "ExecuteTime": {
     "end_time": "2024-07-31T18:59:02.028878Z",
     "start_time": "2024-07-31T18:59:02.014922Z"
    }
   },
   "cell_type": "code",
   "source": "np.mean(test_vals[\"hum_preds\"] == Y_test.numpy())",
   "id": "31be22e08202bff8",
   "outputs": [
    {
     "data": {
      "text/plain": [
       "0.8536"
      ]
     },
     "execution_count": 279,
     "metadata": {},
     "output_type": "execute_result"
    }
   ],
   "execution_count": 279
  },
  {
   "metadata": {
    "ExecuteTime": {
     "end_time": "2024-07-31T18:59:02.044826Z",
     "start_time": "2024-07-31T18:59:02.029876Z"
    }
   },
   "cell_type": "code",
   "source": "np.mean(test_vals[\"preds\"] == Y_test.numpy())",
   "id": "86ccd6b4c46f73d",
   "outputs": [
    {
     "data": {
      "text/plain": [
       "0.8124"
      ]
     },
     "execution_count": 280,
     "metadata": {},
     "output_type": "execute_result"
    }
   ],
   "execution_count": 280
  },
  {
   "metadata": {
    "ExecuteTime": {
     "end_time": "2024-07-31T18:59:02.060829Z",
     "start_time": "2024-07-31T18:59:02.045835Z"
    }
   },
   "cell_type": "code",
   "source": "np.mean(correct)",
   "id": "7212fbfb1097bb62",
   "outputs": [
    {
     "data": {
      "text/plain": [
       "0.9348"
      ]
     },
     "execution_count": 281,
     "metadata": {},
     "output_type": "execute_result"
    }
   ],
   "execution_count": 281
  },
  {
   "metadata": {
    "ExecuteTime": {
     "end_time": "2024-07-31T18:59:02.076718Z",
     "start_time": "2024-07-31T18:59:02.061823Z"
    }
   },
   "cell_type": "code",
   "source": "threshold",
   "id": "9cca388ed277f69d",
   "outputs": [
    {
     "data": {
      "text/plain": [
       "0.0031310468912124634"
      ]
     },
     "execution_count": 282,
     "metadata": {},
     "output_type": "execute_result"
    }
   ],
   "execution_count": 282
  },
  {
   "metadata": {
    "ExecuteTime": {
     "end_time": "2024-07-31T18:59:02.391110Z",
     "start_time": "2024-07-31T18:59:02.077716Z"
    }
   },
   "cell_type": "code",
   "source": "plt.scatter(X_test, rej_scores, c=correct)\n",
   "id": "3df0beda8a6e4b93",
   "outputs": [
    {
     "data": {
      "text/plain": [
       "<matplotlib.collections.PathCollection at 0x24db076f670>"
      ]
     },
     "execution_count": 283,
     "metadata": {},
     "output_type": "execute_result"
    },
    {
     "data": {
      "text/plain": [
       "<Figure size 640x480 with 1 Axes>"
      ],
      "image/png": "[encoded data removed]"
     },
     "metadata": {},
     "output_type": "display_data"
    }
   ],
   "execution_count": 283
  },
  {
   "metadata": {
    "ExecuteTime": {
     "end_time": "2024-07-31T18:59:02.702128Z",
     "start_time": "2024-07-31T18:59:02.393101Z"
    }
   },
   "cell_type": "code",
   "source": "plt.scatter(X_test, np.exp(X_test.numpy())/(1+np.exp(X_test.numpy())), c=correct)",
   "id": "ebb0eb90e33af427",
   "outputs": [
    {
     "data": {
      "text/plain": [
       "<matplotlib.collections.PathCollection at 0x24db088c040>"
      ]
     },
     "execution_count": 284,
     "metadata": {},
     "output_type": "execute_result"
    },
    {
     "data": {
      "text/plain": [
       "<Figure size 640x480 with 1 Axes>"
      ],
      "image/png": "[encoded data removed]"
     },
     "metadata": {},
     "output_type": "display_data"
    }
   ],
   "execution_count": 284
  },
  {
   "metadata": {
    "ExecuteTime": {
     "end_time": "2024-07-31T18:59:04.217950Z",
     "start_time": "2024-07-31T18:59:02.703851Z"
    }
   },
   "cell_type": "code",
   "source": [
    "scores = model.test(test_loader)[\"preds\"]\n",
    "corrected_ML = np.array(scores == Y_test.numpy()).astype(int)\n",
    "scores = model.test(test_loader)[\"hum_preds\"]\n",
    "corrected_hum = np.array(scores == Y_test.numpy()).astype(int)\n"
   ],
   "id": "3d4c1564da6ac4cf",
   "outputs": [],
   "execution_count": 285
  },
  {
   "metadata": {
    "ExecuteTime": {
     "end_time": "2024-07-31T18:59:04.484111Z",
     "start_time": "2024-07-31T18:59:04.218944Z"
    }
   },
   "cell_type": "code",
   "source": "plt.scatter(np.exp(X_test.numpy())/(1+np.exp(X_test.numpy())), rej_scores,  c=corrected_hum)",
   "id": "bb93469cd7490971",
   "outputs": [
    {
     "data": {
      "text/plain": [
       "<matplotlib.collections.PathCollection at 0x24db084b4f0>"
      ]
     },
     "execution_count": 286,
     "metadata": {},
     "output_type": "execute_result"
    },
    {
     "data": {
      "text/plain": [
       "<Figure size 640x480 with 1 Axes>"
      ],
      "image/png": "[encoded data removed]"
     },
     "metadata": {},
     "output_type": "display_data"
    }
   ],
   "execution_count": 286
  },
  {
   "metadata": {
    "ExecuteTime": {
     "end_time": "2024-07-31T18:59:04.750655Z",
     "start_time": "2024-07-31T18:59:04.486052Z"
    }
   },
   "cell_type": "code",
   "source": "plt.scatter(np.exp(X_test.numpy())/(1+np.exp(X_test.numpy())), rej_scores,  c=corrected_ML)",
   "id": "c368b3fd415bd03",
   "outputs": [
    {
     "data": {
      "text/plain": [
       "<matplotlib.collections.PathCollection at 0x24db076efb0>"
      ]
     },
     "execution_count": 287,
     "metadata": {},
     "output_type": "execute_result"
    },
    {
     "data": {
      "text/plain": [
       "<Figure size 640x480 with 1 Axes>"
      ],
      "image/png": "[encoded data removed]"
     },
     "metadata": {},
     "output_type": "display_data"
    }
   ],
   "execution_count": 287
  },
  {
   "metadata": {
    "ExecuteTime": {
     "end_time": "2024-07-31T18:59:04.765680Z",
     "start_time": "2024-07-31T18:59:04.751650Z"
    }
   },
   "cell_type": "code",
   "source": "",
   "id": "98c809bd08451379",
   "outputs": [],
   "execution_count": 287
  },
  {
   "metadata": {
    "ExecuteTime": {
     "end_time": "2024-07-31T18:59:04.781646Z",
     "start_time": "2024-07-31T18:59:04.766752Z"
    }
   },
   "cell_type": "code",
   "source": "model.model.state_dict()[\"fc.weight\"]",
   "id": "5b5778c997278f12",
   "outputs": [
    {
     "data": {
      "text/plain": [
       "tensor([[-2.0241],\n",
       "        [ 4.3099],\n",
       "        [ 1.3713]], device='cuda:0')"
      ]
     },
     "execution_count": 288,
     "metadata": {},
     "output_type": "execute_result"
    }
   ],
   "execution_count": 288
  },
  {
   "metadata": {
    "ExecuteTime": {
     "end_time": "2024-07-31T18:59:04.796976Z",
     "start_time": "2024-07-31T18:59:04.782642Z"
    }
   },
   "cell_type": "code",
   "source": "model.model.state_dict()[\"fc.bias\"]",
   "id": "7b3e20356c2c6b8d",
   "outputs": [
    {
     "data": {
      "text/plain": [
       "tensor([-0.1293, -0.0800,  2.0142], device='cuda:0')"
      ]
     },
     "execution_count": 289,
     "metadata": {},
     "output_type": "execute_result"
    }
   ],
   "execution_count": 289
  },
  {
   "metadata": {
    "ExecuteTime": {
     "end_time": "2024-07-31T18:59:04.811927Z",
     "start_time": "2024-07-31T18:59:04.797974Z"
    }
   },
   "cell_type": "code",
   "source": "x_test = X_test.numpy()",
   "id": "91642029de6ce62a",
   "outputs": [],
   "execution_count": 290
  },
  {
   "metadata": {
    "ExecuteTime": {
     "end_time": "2024-07-31T18:59:04.827879Z",
     "start_time": "2024-07-31T18:59:04.812924Z"
    }
   },
   "cell_type": "code",
   "source": "instance_check = x_test[0]",
   "id": "ed16f4fb4e894b14",
   "outputs": [],
   "execution_count": 291
  },
  {
   "metadata": {
    "ExecuteTime": {
     "end_time": "2024-07-31T18:59:04.843825Z",
     "start_time": "2024-07-31T18:59:04.829866Z"
    }
   },
   "cell_type": "code",
   "source": [
    "import torch.nn.functional as F\n",
    "model.model.eval()\n",
    "F.softmax(model.model(torch.tensor(instance_check).float().view(-1, 1).to(device)))[:,2]-F.softmax(model.model(torch.tensor(instance_check).float().view(-1, 1).to(device)))[:,1]"
   ],
   "id": "a60d2b92963db31",
   "outputs": [
    {
     "name": "stderr",
     "output_type": "stream",
     "text": [
      "C:\\Users\\andre\\AppData\\Local\\Temp\\ipykernel_7120\\2636858408.py:3: UserWarning: Implicit dimension choice for softmax has been deprecated. Change the call to include dim=X as an argument.\n"
     ]
    },
    {
     "data": {
      "text/plain": [
       "tensor([-0.3755], device='cuda:0', grad_fn=<SubBackward0>)"
      ]
     },
     "execution_count": 292,
     "metadata": {},
     "output_type": "execute_result"
    }
   ],
   "execution_count": 292
  },
  {
   "metadata": {
    "ExecuteTime": {
     "end_time": "2024-07-31T18:59:04.859766Z",
     "start_time": "2024-07-31T18:59:04.844817Z"
    }
   },
   "cell_type": "code",
   "source": [
    "rej_scores[0]\n",
    "x_test[0]\n",
    "human_predictions[0] == Y_test.numpy()[0]\n",
    "preds[0] == Y_test.numpy()[0]"
   ],
   "id": "d7f22f244c8959d9",
   "outputs": [
    {
     "data": {
      "text/plain": [
       "True"
      ]
     },
     "execution_count": 293,
     "metadata": {},
     "output_type": "execute_result"
    }
   ],
   "execution_count": 293
  },
  {
   "metadata": {
    "ExecuteTime": {
     "end_time": "2024-07-31T18:59:05.016237Z",
     "start_time": "2024-07-31T18:59:04.860763Z"
    }
   },
   "cell_type": "code",
   "source": "tt = rdrobust(correct, test_vals[\"rej_score\"], c=threshold)",
   "id": "c6b536f56821301f",
   "outputs": [],
   "execution_count": 294
  },
  {
   "metadata": {
    "ExecuteTime": {
     "end_time": "2024-07-31T18:59:05.032156Z",
     "start_time": "2024-07-31T18:59:05.017673Z"
    }
   },
   "cell_type": "code",
   "source": "tt.bws\n",
   "id": "21478225f0ae685c",
   "outputs": [
    {
     "data": {
      "text/plain": [
       "       left     right\n",
       "h  0.263314  0.263314\n",
       "b  0.377512  0.377512"
      ],
      "text/html": [
       "<div>\n",
       "<style scoped>\n",
       "    .dataframe tbody tr th:only-of-type {\n",
       "        vertical-align: middle;\n",
       "    }\n",
       "\n",
       "    .dataframe tbody tr th {\n",
       "        vertical-align: top;\n",
       "    }\n",
       "\n",
       "    .dataframe thead th {\n",
       "        text-align: right;\n",
       "    }\n",
       "</style>\n",
       "<table border=\"1\" class=\"dataframe\">\n",
       "  <thead>\n",
       "    <tr style=\"text-align: right;\">\n",
       "      <th></th>\n",
       "      <th>left</th>\n",
       "      <th>right</th>\n",
       "    </tr>\n",
       "  </thead>\n",
       "  <tbody>\n",
       "    <tr>\n",
       "      <th>h</th>\n",
       "      <td>0.263314</td>\n",
       "      <td>0.263314</td>\n",
       "    </tr>\n",
       "    <tr>\n",
       "      <th>b</th>\n",
       "      <td>0.377512</td>\n",
       "      <td>0.377512</td>\n",
       "    </tr>\n",
       "  </tbody>\n",
       "</table>\n",
       "</div>"
      ]
     },
     "execution_count": 295,
     "metadata": {},
     "output_type": "execute_result"
    }
   ],
   "execution_count": 295
  },
  {
   "metadata": {
    "ExecuteTime": {
     "end_time": "2024-07-31T18:59:05.511722Z",
     "start_time": "2024-07-31T18:59:05.033243Z"
    }
   },
   "cell_type": "code",
   "source": "",
   "id": "885c22851cfb9fb",
   "outputs": [
    {
     "name": "stdout",
     "output_type": "stream",
     "text": [
      "Call: rdrobust\n",
      "Number of Observations:                  5000\n",
      "Polynomial Order Est. (p):                  1\n",
      "Polynomial Order Bias (q):                  2\n",
      "Kernel:                            Triangular\n",
      "Bandwidth Selection:                    mserd\n",
      "Var-Cov Estimator:                         NN\n",
      "\n",
      "                                Left      Right\n",
      "------------------------------------------------\n",
      "Number of Observations          2481       2519\n",
      "Number of Unique Obs.           2481       2518\n",
      "Number of Effective Obs.         481        577\n",
      "Bandwidth Estimation           0.263      0.263\n",
      "Bandwidth Bias                 0.378      0.378\n",
      "rho (h/b)                      0.697      0.697\n",
      "\n",
      "Method             Coef.     S.E.   t-stat    P>|t|       95% CI      \n",
      "-------------------------------------------------------------------------\n",
      "Conventional       0.126    0.048    2.604   9.223e-03      [0.031, 0.22]\n",
      "Robust                 -        -    2.147   3.178e-02     [0.011, 0.241]\n",
      "\n"
     ]
    }
   ],
   "execution_count": 296
  },
  {
   "metadata": {
    "ExecuteTime": {
     "end_time": "2024-07-31T18:59:05.527873Z",
     "start_time": "2024-07-31T18:59:05.512719Z"
    }
   },
   "cell_type": "code",
   "source": "res_dict",
   "id": "6cee28794cf86541",
   "outputs": [
    {
     "data": {
      "text/plain": [
       "{'N': [2481, 2519],\n",
       " 'N_h_l': 481,\n",
       " 'N_h_r': 577,\n",
       " 'c': 0.0031310468912124634,\n",
       " 'p': 1,\n",
       " 'q': 2,\n",
       " 'bws_l_h': 0.2633138681220589,\n",
       " 'bws_l_b': 0.3775122632058113,\n",
       " 'bws_r_h': 0.2633138681220589,\n",
       " 'bws_r_b': 0.3775122632058113,\n",
       " 'tau_cl_l': 0.7840984214167215,\n",
       " 'tau_cl_r': 0.9097916466305283,\n",
       " 'tau_bc_l': 0.7775577730785872,\n",
       " 'tau_bc_r': 0.9035641342288581,\n",
       " 'coef_conv': 0.12569322521380677,\n",
       " 'coef_bias': 0.12600636115027086,\n",
       " 'coef_rob': 0.12600636115027086,\n",
       " 'se_conv': 0.04827518508791162,\n",
       " 'se_bias': 0.04827518508791162,\n",
       " 'se_rob': 0.05868500444789592,\n",
       " 'bias_l': 0.006540648338134281,\n",
       " 'bias_r': 0.006227512401670188,\n",
       " 'pv_conv': 0.009222831465903563,\n",
       " 'pv_bias': 0.009049766940314724,\n",
       " 'pv_rob': 0.03178018386832559,\n",
       " 'ci_conv_l': 0.031075601094494906,\n",
       " 'ci_conv_u': 0.22031084933311862,\n",
       " 'ci_bias_l': 0.031388737030959,\n",
       " 'ci_bias_u': 0.2206239852695827,\n",
       " 'ci_rob_l': 0.010985865999821973,\n",
       " 'ci_rob_u': 0.24102685630071974}"
      ]
     },
     "execution_count": 297,
     "metadata": {},
     "output_type": "execute_result"
    }
   ],
   "execution_count": 297
  },
  {
   "metadata": {
    "ExecuteTime": {
     "end_time": "2024-07-31T18:59:05.699752Z",
     "start_time": "2024-07-31T18:59:05.528916Z"
    }
   },
   "cell_type": "code",
   "source": "plt.hist(np.exp(test_vals[\"rej_score\"])/(1+np.exp(test_vals[\"rej_score\"]+0.02)))",
   "id": "dc7e2d2e8c9fc75b",
   "outputs": [
    {
     "data": {
      "text/plain": [
       "(array([ 836.,  444.,  349.,  321.,  298.,  298.,  354.,  406.,  570.,\n",
       "        1124.]),\n",
       " array([0.26751897, 0.30688754, 0.34625612, 0.3856247 , 0.42499328,\n",
       "        0.46436186, 0.50373044, 0.54309901, 0.58246759, 0.62183617,\n",
       "        0.66120475]),\n",
       " <BarContainer object of 10 artists>)"
      ]
     },
     "execution_count": 298,
     "metadata": {},
     "output_type": "execute_result"
    },
    {
     "data": {
      "text/plain": [
       "<Figure size 640x480 with 1 Axes>"
      ],
      "image/png": "[encoded data removed]"
     },
     "metadata": {},
     "output_type": "display_data"
    }
   ],
   "execution_count": 298
  },
  {
   "metadata": {
    "ExecuteTime": {
     "end_time": "2024-07-31T18:59:06.025979Z",
     "start_time": "2024-07-31T18:59:05.702290Z"
    }
   },
   "cell_type": "code",
   "source": [
    "from rdrobust import rdbwselect\n",
    "\n",
    "bn = rdbwselect(correct, test_vals[\"rej_score\"], c=threshold, bwselect=\"msecomb2\")"
   ],
   "id": "8d6f05788b6c142f",
   "outputs": [],
   "execution_count": 299
  },
  {
   "metadata": {
    "ExecuteTime": {
     "end_time": "2024-07-31T19:02:24.779336Z",
     "start_time": "2024-07-31T19:02:24.764466Z"
    }
   },
   "cell_type": "code",
   "source": "",
   "id": "548eb7b9599d0ff5",
   "outputs": [],
   "execution_count": 334
  },
  {
   "metadata": {
    "ExecuteTime": {
     "end_time": "2024-07-31T18:59:06.056924Z",
     "start_time": "2024-07-31T18:59:06.043918Z"
    }
   },
   "cell_type": "code",
   "source": "",
   "id": "d29550618bb76284",
   "outputs": [],
   "execution_count": 300
  },
  {
   "metadata": {
    "ExecuteTime": {
     "end_time": "2024-07-31T19:02:39.262073Z",
     "start_time": "2024-07-31T19:02:39.244579Z"
    }
   },
   "cell_type": "code",
   "source": "",
   "id": "c577d56f62e4ea9",
   "outputs": [
    {
     "data": {
      "text/plain": [
       "(0.2142857142857143, 14)"
      ]
     },
     "execution_count": 336,
     "metadata": {},
     "output_type": "execute_result"
    }
   ],
   "execution_count": 336
  },
  {
   "metadata": {
    "ExecuteTime": {
     "end_time": "2024-07-31T19:02:18.744934Z",
     "start_time": "2024-07-31T19:02:18.725693Z"
    }
   },
   "cell_type": "code",
   "source": "",
   "id": "9377012be110b4dd",
   "outputs": [
    {
     "data": {
      "text/plain": [
       "(0.15384615384615385, 13)"
      ]
     },
     "execution_count": 333,
     "metadata": {},
     "output_type": "execute_result"
    }
   ],
   "execution_count": 333
  }
 ],
 "metadata": {
  "kernelspec": {
   "display_name": "Python 3",
   "language": "python",
   "name": "python3"
  },
  "language_info": {
   "codemirror_mode": {
    "name": "ipython",
    "version": 2
   },
   "file_extension": ".py",
   "mimetype": "text/x-python",
   "name": "python",
   "nbconvert_exporter": "python",
   "pygments_lexer": "ipython2",
   "version": "2.7.6"
  }
 },
 "nbformat": 4,
 "nbformat_minor": 5
}
