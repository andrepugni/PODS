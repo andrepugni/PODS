{
 "cells": [
  {
   "cell_type": "code",
   "execution_count": 8,
   "metadata": {
    "collapsed": true
   },
   "outputs": [
    {
     "name": "stdout",
     "output_type": "stream",
     "text": [
      "Random seed 42 has been set.\n"
     ]
    }
   ],
   "source": [
    "from src.plotsutils import *\n",
    "import pandas as pd\n",
    "import matplotlib.pyplot as plt\n",
    "import seaborn as sns\n",
    "from src.utils import set_seed\n",
    "import os\n",
    "\n",
    "\n",
    "wdir = os.path.abspath(os.path.dirname(__name__))\n",
    "tab_fold = '../tabs/'\n",
    "\n",
    "seed = 42\n",
    "set_seed(seed)\n",
    "# file results\n",
    "filename = \"../results/all_results.csv\"\n",
    "if not os.path.exists(filename):\n",
    "    raise FileNotFoundError(\"No results found. Run train.py and test.py first.\")\n",
    "else:\n",
    "    df = pd.read_csv(filename)"
   ]
  },
  {
   "cell_type": "code",
   "execution_count": 9,
   "outputs": [],
   "source": [
    "\n",
    "df[\"pv_rob_formatted\"] = \"\\\\num{\"+df[\"pv_rob\"].apply(lambda x: \"{:.2e}\".format(x))+\"}\"\n",
    "df[\"pv_rob_ATT_formatted\"] = \"\\\\num{\"+df[\"pv_rob_ATT\"].apply(lambda x: \"{:.2e}\".format(x))+\"}\"\n"
   ],
   "metadata": {
    "collapsed": false
   }
  },
  {
   "cell_type": "code",
   "execution_count": 9,
   "outputs": [],
   "source": [],
   "metadata": {
    "collapsed": false
   }
  },
  {
   "cell_type": "code",
   "execution_count": 10,
   "outputs": [],
   "source": [
    "metric_dict = {\"coef_rob\": \"$\\\\hat{\\\\tau}_{\\mathtt{RDD}}$\", \"system_acc\": \"System Accuracy\",\n",
    "               \"system_acc_v2\": \"System Accuracy\", \"ATT\": \"$\\\\hat{\\\\tau}_{\\mathtt{ATD}}$\",\n",
    "               \"classifier_all_acc\": \"System Accuracy\", \"pv_rob\": \"Estimated $\\\\tau$\",\n",
    "               \"acc_system\": \"System Accuracy\"}\n"
   ],
   "metadata": {
    "collapsed": false
   }
  },
  {
   "cell_type": "code",
   "execution_count": 11,
   "outputs": [],
   "source": [
    "df.sort_values(by=[\"data\", \"method\", \"target_coverage\"], inplace=True)"
   ],
   "metadata": {
    "collapsed": false
   }
  },
  {
   "cell_type": "code",
   "execution_count": 12,
   "outputs": [
    {
     "data": {
      "text/plain": "              data method  target_coverage       ATT  ci_l_ATT  ci_u_ATT  \\\n76        cifar10h    ASM              0.0  0.028000  0.014541  0.041459   \n66        cifar10h    ASM              0.1  0.032676  0.017604  0.047748   \n67        cifar10h    ASM              0.2  0.039052  0.022085  0.056020   \n68        cifar10h    ASM              0.3  0.048035  0.029052  0.067018   \n69        cifar10h    ASM              0.4  0.061962  0.039981  0.083943   \n..             ...    ...              ...       ...       ...       ...   \n203  xray-airspace     SP              0.6  0.130031  0.069609  0.190453   \n204  xray-airspace     SP              0.7  0.157676  0.088377  0.226976   \n205  xray-airspace     SP              0.8  0.217647  0.133259  0.302035   \n206  xray-airspace     SP              0.9  0.253012  0.127244  0.378780   \n207  xray-airspace     SP              1.0  0.000000  0.000000  0.000000   \n\n       pv_rob_ATT   acc_hum    acc_ML  acc_system  ...         c    p    q  \\\n76   4.552340e-05  0.957500  0.000000    0.957500  ...       NaN  NaN  NaN   \n66   2.145606e-05  0.953239  1.000000    0.958500  ... -1.000000  1.0  2.0   \n67   6.449956e-06  0.948784  1.000000    0.960000  ... -1.000000  1.0  2.0   \n68   7.062399e-07  0.945415  1.000000    0.962500  ... -0.999998  1.0  2.0   \n69   3.296803e-08  0.940620  1.000000    0.965500  ... -0.999935  1.0  2.0   \n..            ...       ...       ...         ...  ...       ...  ...  ...   \n203  2.465568e-05  0.829721  0.937736    0.896835  ...  0.203150  1.0  2.0   \n204  8.214969e-06  0.834025  0.915033    0.892145  ...  0.271377  1.0  2.0   \n205  4.304583e-07  0.823529  0.907760    0.890973  ...  0.332907  1.0  2.0   \n206  8.049209e-05  0.783133  0.881818    0.872216  ...  0.418754  1.0  2.0   \n207  0.000000e+00  0.000000  0.847597    0.847597  ...       NaN  NaN  NaN   \n\n     coef_rob    se_rob    pv_rob  ci_rob_l  ci_rob_u  pv_rob_formatted  \\\n76        NaN       NaN       NaN       NaN       NaN         \\num{nan}   \n66  -0.842888  0.505405  0.095366 -1.833463  0.147688    \\num{9.54e-02}   \n67  -0.022057  0.017692  0.212490 -0.056732  0.012618    \\num{2.12e-01}   \n68  -0.043245  0.010062  0.000017 -0.062966 -0.023523    \\num{1.73e-05}   \n69  -0.039047  0.012408  0.001651 -0.063367 -0.014727    \\num{1.65e-03}   \n..        ...       ...       ...       ...       ...               ...   \n203 -0.171448  0.122025  0.160014 -0.410613  0.067717    \\num{1.60e-01}   \n204 -0.113580  0.196773  0.563794 -0.499248  0.272087    \\num{5.64e-01}   \n205  0.277976  0.186589  0.136283 -0.087732  0.643683    \\num{1.36e-01}   \n206  0.007736  0.133856  0.953914 -0.254617  0.270089    \\num{9.54e-01}   \n207       NaN       NaN       NaN       NaN       NaN         \\num{nan}   \n\n     pv_rob_ATT_formatted  \n76         \\num{4.55e-05}  \n66         \\num{2.15e-05}  \n67         \\num{6.45e-06}  \n68         \\num{7.06e-07}  \n69         \\num{3.30e-08}  \n..                    ...  \n203        \\num{2.47e-05}  \n204        \\num{8.21e-06}  \n205        \\num{4.30e-07}  \n206        \\num{8.05e-05}  \n207        \\num{0.00e+00}  \n\n[385 rows x 23 columns]",
      "text/html": "<div>\n<style scoped>\n    .dataframe tbody tr th:only-of-type {\n        vertical-align: middle;\n    }\n\n    .dataframe tbody tr th {\n        vertical-align: top;\n    }\n\n    .dataframe thead th {\n        text-align: right;\n    }\n</style>\n<table border=\"1\" class=\"dataframe\">\n  <thead>\n    <tr style=\"text-align: right;\">\n      <th></th>\n      <th>data</th>\n      <th>method</th>\n      <th>target_coverage</th>\n      <th>ATT</th>\n      <th>ci_l_ATT</th>\n      <th>ci_u_ATT</th>\n      <th>pv_rob_ATT</th>\n      <th>acc_hum</th>\n      <th>acc_ML</th>\n      <th>acc_system</th>\n      <th>...</th>\n      <th>c</th>\n      <th>p</th>\n      <th>q</th>\n      <th>coef_rob</th>\n      <th>se_rob</th>\n      <th>pv_rob</th>\n      <th>ci_rob_l</th>\n      <th>ci_rob_u</th>\n      <th>pv_rob_formatted</th>\n      <th>pv_rob_ATT_formatted</th>\n    </tr>\n  </thead>\n  <tbody>\n    <tr>\n      <th>76</th>\n      <td>cifar10h</td>\n      <td>ASM</td>\n      <td>0.0</td>\n      <td>0.028000</td>\n      <td>0.014541</td>\n      <td>0.041459</td>\n      <td>4.552340e-05</td>\n      <td>0.957500</td>\n      <td>0.000000</td>\n      <td>0.957500</td>\n      <td>...</td>\n      <td>NaN</td>\n      <td>NaN</td>\n      <td>NaN</td>\n      <td>NaN</td>\n      <td>NaN</td>\n      <td>NaN</td>\n      <td>NaN</td>\n      <td>NaN</td>\n      <td>\\num{nan}</td>\n      <td>\\num{4.55e-05}</td>\n    </tr>\n    <tr>\n      <th>66</th>\n      <td>cifar10h</td>\n      <td>ASM</td>\n      <td>0.1</td>\n      <td>0.032676</td>\n      <td>0.017604</td>\n      <td>0.047748</td>\n      <td>2.145606e-05</td>\n      <td>0.953239</td>\n      <td>1.000000</td>\n      <td>0.958500</td>\n      <td>...</td>\n      <td>-1.000000</td>\n      <td>1.0</td>\n      <td>2.0</td>\n      <td>-0.842888</td>\n      <td>0.505405</td>\n      <td>0.095366</td>\n      <td>-1.833463</td>\n      <td>0.147688</td>\n      <td>\\num{9.54e-02}</td>\n      <td>\\num{2.15e-05}</td>\n    </tr>\n    <tr>\n      <th>67</th>\n      <td>cifar10h</td>\n      <td>ASM</td>\n      <td>0.2</td>\n      <td>0.039052</td>\n      <td>0.022085</td>\n      <td>0.056020</td>\n      <td>6.449956e-06</td>\n      <td>0.948784</td>\n      <td>1.000000</td>\n      <td>0.960000</td>\n      <td>...</td>\n      <td>-1.000000</td>\n      <td>1.0</td>\n      <td>2.0</td>\n      <td>-0.022057</td>\n      <td>0.017692</td>\n      <td>0.212490</td>\n      <td>-0.056732</td>\n      <td>0.012618</td>\n      <td>\\num{2.12e-01}</td>\n      <td>\\num{6.45e-06}</td>\n    </tr>\n    <tr>\n      <th>68</th>\n      <td>cifar10h</td>\n      <td>ASM</td>\n      <td>0.3</td>\n      <td>0.048035</td>\n      <td>0.029052</td>\n      <td>0.067018</td>\n      <td>7.062399e-07</td>\n      <td>0.945415</td>\n      <td>1.000000</td>\n      <td>0.962500</td>\n      <td>...</td>\n      <td>-0.999998</td>\n      <td>1.0</td>\n      <td>2.0</td>\n      <td>-0.043245</td>\n      <td>0.010062</td>\n      <td>0.000017</td>\n      <td>-0.062966</td>\n      <td>-0.023523</td>\n      <td>\\num{1.73e-05}</td>\n      <td>\\num{7.06e-07}</td>\n    </tr>\n    <tr>\n      <th>69</th>\n      <td>cifar10h</td>\n      <td>ASM</td>\n      <td>0.4</td>\n      <td>0.061962</td>\n      <td>0.039981</td>\n      <td>0.083943</td>\n      <td>3.296803e-08</td>\n      <td>0.940620</td>\n      <td>1.000000</td>\n      <td>0.965500</td>\n      <td>...</td>\n      <td>-0.999935</td>\n      <td>1.0</td>\n      <td>2.0</td>\n      <td>-0.039047</td>\n      <td>0.012408</td>\n      <td>0.001651</td>\n      <td>-0.063367</td>\n      <td>-0.014727</td>\n      <td>\\num{1.65e-03}</td>\n      <td>\\num{3.30e-08}</td>\n    </tr>\n    <tr>\n      <th>...</th>\n      <td>...</td>\n      <td>...</td>\n      <td>...</td>\n      <td>...</td>\n      <td>...</td>\n      <td>...</td>\n      <td>...</td>\n      <td>...</td>\n      <td>...</td>\n      <td>...</td>\n      <td>...</td>\n      <td>...</td>\n      <td>...</td>\n      <td>...</td>\n      <td>...</td>\n      <td>...</td>\n      <td>...</td>\n      <td>...</td>\n      <td>...</td>\n      <td>...</td>\n      <td>...</td>\n    </tr>\n    <tr>\n      <th>203</th>\n      <td>xray-airspace</td>\n      <td>SP</td>\n      <td>0.6</td>\n      <td>0.130031</td>\n      <td>0.069609</td>\n      <td>0.190453</td>\n      <td>2.465568e-05</td>\n      <td>0.829721</td>\n      <td>0.937736</td>\n      <td>0.896835</td>\n      <td>...</td>\n      <td>0.203150</td>\n      <td>1.0</td>\n      <td>2.0</td>\n      <td>-0.171448</td>\n      <td>0.122025</td>\n      <td>0.160014</td>\n      <td>-0.410613</td>\n      <td>0.067717</td>\n      <td>\\num{1.60e-01}</td>\n      <td>\\num{2.47e-05}</td>\n    </tr>\n    <tr>\n      <th>204</th>\n      <td>xray-airspace</td>\n      <td>SP</td>\n      <td>0.7</td>\n      <td>0.157676</td>\n      <td>0.088377</td>\n      <td>0.226976</td>\n      <td>8.214969e-06</td>\n      <td>0.834025</td>\n      <td>0.915033</td>\n      <td>0.892145</td>\n      <td>...</td>\n      <td>0.271377</td>\n      <td>1.0</td>\n      <td>2.0</td>\n      <td>-0.113580</td>\n      <td>0.196773</td>\n      <td>0.563794</td>\n      <td>-0.499248</td>\n      <td>0.272087</td>\n      <td>\\num{5.64e-01}</td>\n      <td>\\num{8.21e-06}</td>\n    </tr>\n    <tr>\n      <th>205</th>\n      <td>xray-airspace</td>\n      <td>SP</td>\n      <td>0.8</td>\n      <td>0.217647</td>\n      <td>0.133259</td>\n      <td>0.302035</td>\n      <td>4.304583e-07</td>\n      <td>0.823529</td>\n      <td>0.907760</td>\n      <td>0.890973</td>\n      <td>...</td>\n      <td>0.332907</td>\n      <td>1.0</td>\n      <td>2.0</td>\n      <td>0.277976</td>\n      <td>0.186589</td>\n      <td>0.136283</td>\n      <td>-0.087732</td>\n      <td>0.643683</td>\n      <td>\\num{1.36e-01}</td>\n      <td>\\num{4.30e-07}</td>\n    </tr>\n    <tr>\n      <th>206</th>\n      <td>xray-airspace</td>\n      <td>SP</td>\n      <td>0.9</td>\n      <td>0.253012</td>\n      <td>0.127244</td>\n      <td>0.378780</td>\n      <td>8.049209e-05</td>\n      <td>0.783133</td>\n      <td>0.881818</td>\n      <td>0.872216</td>\n      <td>...</td>\n      <td>0.418754</td>\n      <td>1.0</td>\n      <td>2.0</td>\n      <td>0.007736</td>\n      <td>0.133856</td>\n      <td>0.953914</td>\n      <td>-0.254617</td>\n      <td>0.270089</td>\n      <td>\\num{9.54e-01}</td>\n      <td>\\num{8.05e-05}</td>\n    </tr>\n    <tr>\n      <th>207</th>\n      <td>xray-airspace</td>\n      <td>SP</td>\n      <td>1.0</td>\n      <td>0.000000</td>\n      <td>0.000000</td>\n      <td>0.000000</td>\n      <td>0.000000e+00</td>\n      <td>0.000000</td>\n      <td>0.847597</td>\n      <td>0.847597</td>\n      <td>...</td>\n      <td>NaN</td>\n      <td>NaN</td>\n      <td>NaN</td>\n      <td>NaN</td>\n      <td>NaN</td>\n      <td>NaN</td>\n      <td>NaN</td>\n      <td>NaN</td>\n      <td>\\num{nan}</td>\n      <td>\\num{0.00e+00}</td>\n    </tr>\n  </tbody>\n</table>\n<p>385 rows × 23 columns</p>\n</div>"
     },
     "execution_count": 12,
     "metadata": {},
     "output_type": "execute_result"
    }
   ],
   "source": [
    "df"
   ],
   "metadata": {
    "collapsed": false
   }
  },
  {
   "cell_type": "code",
   "execution_count": 15,
   "outputs": [],
   "source": [
    "dataset = \"synth\"\n",
    "def write_latex_table(df, dataset):\n",
    "    tmp = df[(df[\"data\"] == dataset)].copy()\n",
    "    methods = sorted(tmp[\"method\"].unique())\n",
    "    tab = pd.pivot_table(tmp, values=[\"coef_rob\", \"ATT\", \"pv_rob_formatted\",\"pv_rob_ATT_formatted\", \"acc_system\"], index=\"target_coverage\",\n",
    "                         aggfunc = {\"coef_rob\":\"mean\", \"ATT\": \"mean\", \"pv_rob_formatted\":\"first\", \"pv_rob_ATT_formatted\":\"first\", \"acc_system\":\"mean\"},columns=\"method\").fillna(-100)\n",
    "    tab.columns = [\"_\".join(col).strip() for col in tab.columns.values]\n",
    "    tab.reset_index(inplace=True)\n",
    "    tab1 = tab.copy()\n",
    "    cols_ = [\"{}\".format(method) for method in methods]\n",
    "    tab1[\"max_col\"] = tab1[[\"ATT_{}\".format(method) for method in methods]].max(axis=1)\n",
    "    for method in methods:\n",
    "        tab1[\"{}\".format(method)] = tab1[\"ATT_{}\".format(method)].apply(lambda x: \"{:.3f}\".format(x))\n",
    "        tab1[\"{}\".format(method)] = np.where(\n",
    "            tab1[\"max_col\"] == tab1[\"ATT_{}\".format(method)],\"$\\mathbf{\"+tab1[\"{}\".format(method)]+\"~(\"+tab1[\"pv_rob_ATT_formatted_{}\".format(method)]+\")}$\",\n",
    "            \"$\"+tab1[\"{}\".format(method)]+\"~(\"+tab1[\"pv_rob_ATT_formatted_{}\".format(method)]+\")$\")\n",
    "        tab1[\"{}\".format(method)] = tab1[\"{}\".format(method)].str.replace(\"0.\", \".\")\n",
    "        tab1[\"{}\".format(method)] = tab1[\"{}\".format(method)].str.replace(\"e-0\", \"e-\")\n",
    "    tab1[\"metric\"] = np.where(tab1[\"target_coverage\"]==0, \"\\multirow{10}{*}{\\\\rotatebox[origin=c]{90}{$\\htatd$}}\",\n",
    "                              \"\")\n",
    "    tab1 = tab1[~tab1[\"target_coverage\"].isin([1])]\n",
    "    tab1 = tab1[[\"metric\", \"target_coverage\"]+cols_]\n",
    "    tab2 = tab.copy()\n",
    "    tab2[\"max_col\"] = tab2[[\"coef_rob_{}\".format(method) for method in methods]].max(axis=1)\n",
    "    for method in methods:\n",
    "        tab2[\"{}\".format(method)] = tab2[\"coef_rob_{}\".format(method)].apply(lambda x: \"{:.3f}\".format(x))\n",
    "        tab2[\"{}\".format(method)] = np.where(\n",
    "            tab2[\"max_col\"] == tab2[\"coef_rob_{}\".format(method)],\"$\\mathbf{\"+tab2[\"{}\".format(method)]+\"~(\"+tab2[\"pv_rob_formatted_{}\".format(method)]+\")}$\",\n",
    "            \"$\"+tab2[\"{}\".format(method)]+\"~(\"+tab2[\"pv_rob_formatted_{}\".format(method)]+\")$\")\n",
    "        tab2[\"{}\".format(method)] = tab2[\"{}\".format(method)].str.replace(\"0.\", \".\")\n",
    "        tab2[\"{}\".format(method)] = tab2[\"{}\".format(method)].str.replace(\"e-0\", \"e-\")\n",
    "\n",
    "    tab2 = tab2[~tab2[\"target_coverage\"].isin([0,1])]\n",
    "    tab2[\"metric\"] = np.where(tab2[\"target_coverage\"]==0.1, \"\\n\\midrule\\n\\multirow{9}{*}{\\\\rotatebox[origin=c]{90}{$\\\\htrdd$}}\",\n",
    "                              \"\")\n",
    "    tab2 = tab2[[\"metric\", \"target_coverage\"]+cols_]\n",
    "    tab3 = tab.copy()\n",
    "    tab3[\"max_col\"] = tab3[[\"acc_system_{}\".format(method) for method in methods]].max(axis=1)\n",
    "    for method in methods:\n",
    "        tab3[\"{}\".format(method)] = tab3[\"acc_system_{}\".format(method)].apply(lambda x: \"{:.3f}\".format(x))\n",
    "        tab3[\"{}\".format(method)] = np.where(\n",
    "            tab3[\"max_col\"] == tab3[\"acc_system_{}\".format(method)],\n",
    "            \"$\\mathbf{\"+tab3[\"{}\".format(method)]+\"}$\",\n",
    "            \"$\"+tab3[\"{}\".format(method)]+\"$\")\n",
    "        tab3[\"{}\".format(method)] = tab3[\"{}\".format(method)].str.replace(\"0.\", \".\")\n",
    "        # tab3[\"{}\".format(method)] = tab3[\"{}\".format(method)].str.replace(\"e-0\", \"e-\")\n",
    "    tab3[\"metric\"] = np.where(tab3[\"target_coverage\"]==0, \"\\n\\midrule\\n\\multirow{11}{*}{\\\\rotatebox[origin=c]{90}{Accuracy}}\",\n",
    "                              \"\")\n",
    "    tab3 = tab3[[\"metric\", \"target_coverage\"]+cols_]\n",
    "    tab_all = pd.concat([tab1, tab2, tab3], axis=0)\n",
    "    tab_all[\"target_coverage\"] = tab_all[\"target_coverage\"].apply(lambda x: \"{:.2f}\".format(x))\n",
    "    tab_all[\"target_coverage\"] = tab_all[\"target_coverage\"].str.replace(\"0.\", \".\")\n",
    "    col_format = \"c|c|ccccccc\"\n",
    "    str_latex = tab_all.to_latex(index=False, escape=False, label=\"tab: {}-results\".format(dataset), caption=\"{} results\".format(\"\\\\texttt{\"+dataset+\"}\"), position=\"t\", column_format=col_format)\n",
    "    str_latex = str_latex.replace(\"metric & target_coverage & ASM & CC & DT & LCE & OVA & RS & SP \\\\\",\n",
    "                                  \" & $c$ & \\ASM{} & \\CC{} & \\DT{} & \\LCE{} & \\OVA{} & \\RS{} & \\SP{} \\\\\")\n",
    "    str_latex = str_latex.replace(\"\\\\begin{tabular}\", \"\\\\resizebox{\\\\textwidth}{!}{\\n\\\\begin{tabular}\")\n",
    "    str_latex = str_latex.replace(\"\\\\end{tabular}\", \"\\\\end{tabular}\\n}\")\n",
    "    str_latex = str_latex.replace(\"10.000~(nan)\", \"\")\n",
    "    str_latex = str_latex.replace(\"$\\\\mathbf{}$\", \"\")\n",
    "    with open(tab_fold+\"{}_results.tex\".format(dataset), \"w\") as f:\n",
    "        f.write(str_latex)\n"
   ],
   "metadata": {
    "collapsed": false
   }
  },
  {
   "cell_type": "markdown",
   "source": [],
   "metadata": {
    "collapsed": false
   }
  },
  {
   "cell_type": "code",
   "execution_count": 16,
   "outputs": [],
   "source": [
    "write_latex_table(df, \"synth\")\n",
    "write_latex_table(df, \"galaxyzoo\")\n",
    "write_latex_table(df, \"xray-airspace\")\n",
    "write_latex_table(df, \"hatespeech\")\n",
    "write_latex_table(df, \"cifar10h\")"
   ],
   "metadata": {
    "collapsed": false
   }
  }
 ],
 "metadata": {
  "kernelspec": {
   "display_name": "Python 3",
   "language": "python",
   "name": "python3"
  },
  "language_info": {
   "codemirror_mode": {
    "name": "ipython",
    "version": 2
   },
   "file_extension": ".py",
   "mimetype": "text/x-python",
   "name": "python",
   "nbconvert_exporter": "python",
   "pygments_lexer": "ipython2",
   "version": "2.7.6"
  }
 },
 "nbformat": 4,
 "nbformat_minor": 0
}
