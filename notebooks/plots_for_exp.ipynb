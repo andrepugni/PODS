{
 "cells": [
  {
   "cell_type": "code",
   "execution_count": 2,
   "metadata": {
    "collapsed": true
   },
   "outputs": [
    {
     "name": "stdout",
     "output_type": "stream",
     "text": [
      "Random seed 42 has been set.\n"
     ]
    }
   ],
   "source": [
    "from src.plotsutils import *\n",
    "import pandas as pd\n",
    "import matplotlib.pyplot as plt\n",
    "import seaborn as sns\n",
    "from src.utils import set_seed\n",
    "import os\n",
    "\n",
    "\n",
    "wdir = os.path.abspath(os.path.dirname(__name__))\n",
    "img_fold = '../figs/'\n",
    "style='seaborn-v0_8-whitegrid'\n",
    "# plt.style.use('ggplot')\n",
    "# style = \"ggplot\"\n",
    "white_back=False\n",
    "# general settings\n",
    "plt.style.use(style)\n",
    "plt.rc('font', size=20)\n",
    "plt.rc('legend', fontsize=20)\n",
    "plt.rc('lines', linewidth=2)\n",
    "plt.rc('axes', linewidth=2)\n",
    "plt.rc('axes', edgecolor='k')\n",
    "plt.rc('xtick.major', width=2)\n",
    "plt.rc('xtick.major', size=12)\n",
    "plt.rc('ytick.major', width=2)\n",
    "plt.rc('ytick.major', size=12)\n",
    "if style=='fivethirtyeight' and white_back==True:\n",
    "    style+=\"WHITE\"\n",
    "    plt.rcParams['savefig.facecolor']='white'\n",
    "    plt.rcParams['figure.facecolor'] = 'white'\n",
    "    plt.rcParams['axes.facecolor'] = 'white'\n",
    "    plt.rcParams['axes.grid'] = False\n",
    "\n",
    "markers_dict = {\n",
    "        'CC':\"s\",\n",
    "     'RS': \"o\",\n",
    "                \"ASM\":\"d\",\n",
    " 'DT': \"X\",\n",
    " 'LCE': \"^\",\n",
    " 'OVA': \"H\",\n",
    " 'SP': \"D\"}\n",
    "\n",
    "palette = {q:sns.color_palette('colorblind')[i] for i,q in enumerate((markers_dict.keys()))}\n",
    "seed = 42\n",
    "set_seed(seed)\n",
    "# file results\n",
    "filename = \"../results/all_results.csv\"\n",
    "if not os.path.exists(filename):\n",
    "    raise FileNotFoundError(\"No results found. Run train.py and test.py first.\")\n",
    "else:\n",
    "    df = pd.read_csv(filename)"
   ]
  },
  {
   "cell_type": "code",
   "execution_count": 3,
   "outputs": [
    {
     "data": {
      "text/plain": "{'CC': (0.00392156862745098, 0.45098039215686275, 0.6980392156862745),\n 'RS': (0.8705882352941177, 0.5607843137254902, 0.0196078431372549),\n 'ASM': (0.00784313725490196, 0.6196078431372549, 0.45098039215686275),\n 'DT': (0.8352941176470589, 0.3686274509803922, 0.0),\n 'LCE': (0.8, 0.47058823529411764, 0.7372549019607844),\n 'OVA': (0.792156862745098, 0.5686274509803921, 0.3803921568627451),\n 'SP': (0.984313725490196, 0.6862745098039216, 0.8941176470588236)}"
     },
     "execution_count": 3,
     "metadata": {},
     "output_type": "execute_result"
    }
   ],
   "source": [
    "palette"
   ],
   "metadata": {
    "collapsed": false
   }
  },
  {
   "cell_type": "code",
   "execution_count": 4,
   "outputs": [],
   "source": [
    "metric_dict = {\"coef_rob\": \"$\\\\hat{\\\\tau}_{\\mathtt{RDD}}$\", \"system_acc\": \"System Accuracy\",\n",
    "               \"system_acc_v2\": \"System Accuracy\", \"ATT\": \"$\\\\hat{\\\\tau}_{\\mathtt{ATD}}$\",\n",
    "               \"classifier_all_acc\": \"System Accuracy\", \"pv_rob\": \"Estimated $\\\\tau$\",\n",
    "               \"acc_system\": \"System Accuracy\"}\n",
    "\n",
    "def plot_single_classifier(df, classifier, figsize=(20, 12), title=\"\", img_title=\"\", metric=\"coef_rob\", ylim = None):\n",
    "    db = df[df['method']==classifier].copy()\n",
    "    fig, ax = plt.subplots(1,1,figsize=figsize)\n",
    "    classifiers = db[\"method\"].unique()\n",
    "    if metric == \"coef_rob\":\n",
    "        target_covs = [.1, .2, .3, .4, .5, .6, .7, .8, .9]\n",
    "        for c in classifiers:\n",
    "            db_c = db[db[\"method\"] == c].copy()\n",
    "            (_, caps, _) = ax.errorbar(db_c[\"target_coverage\"], db_c[\"coef_rob\"], label=c, color=palette[c],yerr=(db_c[\"ci_rob_u\"]-db_c[\"ci_rob_l\"])/2, alpha=0.9, capsize=10,\n",
    "                        elinewidth=4, marker=markers_dict[c], markersize=20, markeredgecolor = 'black',markeredgewidth = 0.5)\n",
    "            for cap in caps:\n",
    "                cap.set_markeredgewidth(8)\n",
    "        if ylim is not None:\n",
    "            ax.set_ylim(ylim)\n",
    "        else:\n",
    "            ax.set_ylim(-.75, .75)\n",
    "        ax.hlines(y=0, linestyles='dashed', colors='black', xmin=0, xmax=1, linewidth=4, label=\"Null Effect\")\n",
    "    elif metric == \"ATT\":\n",
    "        target_covs = [0, .1, .2, .3, .4, .5, .6, .7, .8, .9]\n",
    "        for c in classifiers:\n",
    "            db_c = db[db[\"method\"] == c].copy()\n",
    "            db_c = db_c[db_c[\"target_coverage\"].isin(target_covs)]\n",
    "            (_, caps, _) = ax.errorbar(db_c[\"target_coverage\"], db_c[\"ATT\"], label=c, color=palette[c],yerr=(db_c[\"ci_u_ATT\"]-db_c[\"ci_l_ATT\"])/2, alpha=0.9, capsize=10,\n",
    "                        elinewidth=4, marker=markers_dict[c], markersize=20, markeredgecolor = 'black',markeredgewidth = 0.5)\n",
    "            for cap in caps:\n",
    "                cap.set_markeredgewidth(8)\n",
    "        if ylim is not None:\n",
    "            ax.set_ylim(ylim)\n",
    "        else:\n",
    "            ax.set_ylim(-.20, .50)\n",
    "        ax.set_xlim(-0.04, 1.04)\n",
    "        ax.hlines(y=0, linestyles='dashed', colors='black', xmin=0, xmax=1, linewidth=4, label=\"Null Effect\")\n",
    "    elif metric == \"system_acc\":\n",
    "        target_covs = db[\"target_coverage\"].unique()\n",
    "        for c in classifiers:\n",
    "            db_c = db[db[\"method\"] == c].copy()\n",
    "            ax.plot(db_c[\"target_coverage\"], db_c[metric], label=c, color=palette[c], alpha=0.9,\n",
    "                     marker=markers_dict[c], markersize=20, markeredgecolor = 'black',markeredgewidth = 0.5)\n",
    "        if ylim is not None:\n",
    "            ax.set_ylim(ylim)\n",
    "        else:\n",
    "            ax.set_ylim(.67, 1.01)\n",
    "        class_all_acc = db_c[\"classifier_all_acc\"].max()\n",
    "        human_all_acc = db_c[\"human_all_acc\"].max()\n",
    "        ax.plot([0], [human_all_acc], label=\"Only Human\", color=\"black\", marker=\"P\", markersize=20, markeredgecolor = 'black',markeredgewidth = 0.5)\n",
    "        ax.plot([1], [class_all_acc], label=\"Only ML\", color=\"black\", marker=\"X\", markersize=20, markeredgecolor = 'black',markeredgewidth = 0.5)\n",
    "    elif metric == \"acc_system\":\n",
    "        target_covs = db[\"target_coverage\"].unique()\n",
    "        for c in classifiers:\n",
    "            db_c = db[db[\"method\"] == c].copy()\n",
    "            ax.plot(db_c[\"target_coverage\"], db_c[metric], label=c, color=palette[c], alpha=0.9,\n",
    "                     marker=markers_dict[c], markersize=20, markeredgecolor = 'black',markeredgewidth = 0.5)\n",
    "        if ylim is not None:\n",
    "            ax.set_ylim(ylim)\n",
    "        else:\n",
    "            ax.set_ylim(.67, 1.01)\n",
    "    elif metric == \"system_acc_v2\":\n",
    "        target_covs = db[\"target_coverage\"].unique()\n",
    "        for c in classifiers:\n",
    "            db_c = db[db[\"method\"] == c].copy()\n",
    "            class_all_acc = db_c[\"classifier_all_acc\"].max()\n",
    "            human_all_acc = db_c[\n",
    "        \"human_all_acc\"].max()\n",
    "            xs = sorted([0]+list(target_covs)+[1])\n",
    "            ys = [human_all_acc]+list(db_c[\"system_acc\"].values)+[class_all_acc]\n",
    "            ax.plot(xs, ys, label=c, color=palette[c], alpha=0.9,\n",
    "                     marker=markers_dict[c], markersize=20, markeredgecolor = 'black',markeredgewidth = 0.5)\n",
    "        ax.set_ylim(.67, 1.01)\n",
    "    if \"acc\" in metric:\n",
    "        ax.set_xlim(-0.04, 1.04)\n",
    "    elif metric == \"coef_rob\":\n",
    "        ax.set_xlim(-0.04, 1.04)\n",
    "    elif metric == \"ATT\":\n",
    "        ax.set_xlim(-0.04, 1.04)\n",
    "    else:\n",
    "        ax.set_xlim(0, 1)\n",
    "    dataset = db[\"data\"].unique()[0]\n",
    "    if (dataset in [\"hatespeech\", \"cifar10h\", \"chestxray2\"])&(metric in [\"system_acc\", \"acc_system\"]):\n",
    "        ax.legend(loc=\"lower left\", fontsize=24, markerscale=1, fancybox=True, shadow=False)\n",
    "    else:\n",
    "        ax.legend(loc=\"upper left\", fontsize=24, markerscale=1, fancybox=True, shadow=False)\n",
    "    ax.set_xlabel(\"Cutoff\", fontdict={\"fontsize\": 28})\n",
    "    ax.set_ylabel(metric_dict[metric], fontdict={\"fontsize\": 28})\n",
    "    labels_y = [str(\"{:.2f}\".format(x)).replace(\"0.\",\".\") for x in ax.get_yticks()]\n",
    "    labels_y = [x if i%2==0 else \"\" for i, x in enumerate(labels_y)]\n",
    "    ax.set_yticklabels(labels_y, fontsize=24)\n",
    "    # ax.set_yticklabels([\"{:.2f}\".format(x) for x in ax.get_yticks()], fontsize=24)\n",
    "    xticks = list(target_covs)\n",
    "    ax.set_xticks(xticks)\n",
    "    labels_cov = [str(\"{:.2f}\".format(x)).replace(\"0.\",\".\") for x in target_covs]\n",
    "    # print(labels_cov)\n",
    "    xticks_lab = [\"$\\\\bar{}_{}$\".format(\"{k}\",\"{\"+x+\"}\") for x in labels_cov]\n",
    "    xticks_lab = [tick if i%2==0 else \"\" for i, tick in enumerate(xticks_lab)]\n",
    "    # print(xticks_lab)\n",
    "    ax.set_xticklabels(xticks_lab, fontsize=24)\n",
    "\n",
    "    # ax.xaxis.set_major_formatter(FormatStrFormatter('%.2f'))\n",
    "    ax.yaxis.set_major_formatter(FormatStrFormatter('%.2f'))\n",
    "    ax.set_title(title, fontsize=20)\n",
    "    plt.savefig(\"{}/{}_{}_allcoeffs_{}_oneaxis.png\".format(img_fold, img_title, classifier, metric), bbox_inches='tight', dpi=300)\n",
    "    plt.close()\n",
    "\n"
   ],
   "metadata": {
    "collapsed": false
   }
  },
  {
   "cell_type": "code",
   "execution_count": 5,
   "outputs": [],
   "source": [
    "df.sort_values(by=[\"data\", \"method\", \"target_coverage\"], inplace=True)"
   ],
   "metadata": {
    "collapsed": false
   }
  },
  {
   "cell_type": "code",
   "execution_count": null,
   "outputs": [
    {
     "name": "stderr",
     "output_type": "stream",
     "text": [
      "C:\\Users\\andre\\AppData\\Local\\Temp\\ipykernel_16360\\1989984692.py:91: UserWarning: FixedFormatter should only be used together with FixedLocator\n"
     ]
    }
   ],
   "source": [
    "for data in [\"synth\"]:\n",
    "    for classifier in [\"RS\", \"SP\", \"CC\", \"DT\", \"OVA\", \"LCE\", \"ASM\"]:\n",
    "        plot_single_classifier(df[df[\"data\"]==data], classifier, img_title=data, figsize=(8,6), metric=\"coef_rob\")\n",
    "        plot_single_classifier(df[df[\"data\"]==data], classifier, img_title=data, figsize=(8,6), metric=\"ATT\")\n",
    "        plot_single_classifier(df[df[\"data\"]==data], classifier, img_title=data, figsize=(8,6), metric=\"acc_system\")\n",
    "\n"
   ],
   "metadata": {
    "collapsed": false,
    "pycharm": {
     "is_executing": true
    }
   }
  },
  {
   "cell_type": "code",
   "execution_count": null,
   "outputs": [],
   "source": [
    "for data in [\"galaxyzoo\"]:\n",
    "    for classifier in [\"RS\", \"SP\", \"CC\", \"DT\", \"OVA\", \"LCE\", \"ASM\"]:\n",
    "        plot_single_classifier(df[df[\"data\"]==data], classifier, img_title=data, figsize=(8,6), metric=\"coef_rob\")\n",
    "        plot_single_classifier(df[df[\"data\"]==data], classifier, img_title=data, figsize=(8,6), metric=\"ATT\")\n",
    "        plot_single_classifier(df[df[\"data\"]==data], classifier, img_title=data, figsize=(8,6), metric=\"acc_system\")"
   ],
   "metadata": {
    "collapsed": false,
    "pycharm": {
     "is_executing": true
    }
   }
  },
  {
   "cell_type": "code",
   "execution_count": null,
   "outputs": [],
   "source": [
    "for data in [\"hatespeech\"]:\n",
    "    for classifier in [\"RS\", \"SP\", \"CC\", \"DT\", \"OVA\", \"LCE\", \"ASM\"]:\n",
    "        plot_single_classifier(df[df[\"data\"]==data], classifier, img_title=data, figsize=(8,6), metric=\"coef_rob\")\n",
    "        plot_single_classifier(df[df[\"data\"]==data], classifier, img_title=data, figsize=(8,6), metric=\"ATT\")\n",
    "        plot_single_classifier(df[df[\"data\"]==data], classifier, img_title=data, figsize=(8,6), metric=\"acc_system\")"
   ],
   "metadata": {
    "collapsed": false,
    "pycharm": {
     "is_executing": true
    }
   }
  },
  {
   "cell_type": "code",
   "execution_count": null,
   "outputs": [],
   "source": [
    "for data in [\"xray-airspace\"]:\n",
    "    for classifier in [\"RS\", \"SP\", \"CC\", \"DT\", \"OVA\", \"LCE\", \"ASM\"]:\n",
    "        plot_single_classifier(df[df[\"data\"]==data], classifier, img_title=data, figsize=(8,6), metric=\"coef_rob\")\n",
    "        plot_single_classifier(df[df[\"data\"]==data], classifier, img_title=data, figsize=(8,6), metric=\"ATT\")\n",
    "        plot_single_classifier(df[df[\"data\"]==data], classifier, img_title=data, figsize=(8,6), metric=\"acc_system\")"
   ],
   "metadata": {
    "collapsed": false,
    "pycharm": {
     "is_executing": true
    }
   }
  },
  {
   "cell_type": "code",
   "execution_count": null,
   "outputs": [],
   "source": [
    "for data in [ \"cifar10h\"]:\n",
    "    for classifier in [\"RS\", \"SP\", \"CC\", \"DT\", \"OVA\", \"LCE\", \"ASM\"]:\n",
    "        plot_single_classifier(df[df[\"data\"]==data], classifier, img_title=data, figsize=(8,6), metric=\"coef_rob\")\n",
    "        plot_single_classifier(df[df[\"data\"]==data], classifier, img_title=data, figsize=(8,6), metric=\"ATT\")\n",
    "        plot_single_classifier(df[df[\"data\"]==data], classifier, img_title=data, figsize=(8,6), metric=\"acc_system\")"
   ],
   "metadata": {
    "collapsed": false,
    "pycharm": {
     "is_executing": true
    }
   }
  },
  {
   "cell_type": "code",
   "execution_count": null,
   "outputs": [],
   "source": [
    "df_cal = pd.read_csv(\"../resultsRAW/synth/GCresultsRAW_cal_synth_RS_42_0.1_0.3_0.2_ep50.csv\")\n",
    "target_cov = .60\n",
    "threshold = np.quantile(df_cal[\"rej_score\"], target_cov)\n",
    "colors = [sns.color_palette(\"colorblind\")[0] if x < threshold else sns.color_palette(\"colorblind\")[1] for x in df_cal[\"rej_score\"]]\n",
    "x = df_cal[\"rej_score\"].values\n",
    "fig, ax = plt.subplots(1,1, figsize=(8, 4))\n",
    "sns.kdeplot(x, fill=False, color='grey', ax=ax)\n",
    "kdeline = ax.lines[0]\n",
    "xs = kdeline.get_xdata()\n",
    "ys = kdeline.get_ydata()\n",
    "ax.set_title('Calibration procedure for target coverage ${c}$', fontsize=20)\n",
    "ax.vlines(threshold, 0, np.interp(threshold, xs, ys), color='black', ls='--', lw=3)\n",
    "ax.fill_between(xs, 0, ys, facecolor=sns.color_palette(\"colorblind\")[0], alpha=0.4)\n",
    "ax.fill_between(xs, 0, ys, where=(threshold <= xs), interpolate=True, facecolor=sns.color_palette(\"colorblind\")[1], alpha=.9)\n",
    "ax.set_xticks(sorted(list(np.linspace(-1,1, 3))+[threshold]))\n",
    "ax.set_xticklabels([\"{:.2f}\".format(x) if x!=threshold else \"$\\\\bar{k}_{{c}}$\" for x in sorted(list(np.linspace(-1,1, 3))+[threshold])], fontsize=20)\n",
    "fig.text(0.44, 0.3, 'ML model\\n${c}$', ha='center', fontsize=20)\n",
    "fig.text(0.7, 0.3, 'Human \\nExpert\\n$(1-{c})$', ha='center', fontsize=20)\n",
    "# fig.text(0.5, -0.13, 'Reject Score', ha='center', fontsize=20)\n",
    "ax.set_ylabel(\"Reject Score Density\", fontsize=20)\n",
    "ax.set_xlabel(\"Reject Score\", fontsize=20)\n",
    "ax.set_yticklabels([\"{:.2f}\".format(x) for x in ax.get_yticks()], fontsize=20)\n",
    "# ax.set_ylim(ymin=0)\n",
    "plt.savefig(\"{}/calibration_example.png\".format(img_fold, target_cov), bbox_inches='tight', dpi=300)\n",
    "plt.show()"
   ],
   "metadata": {
    "collapsed": false,
    "pycharm": {
     "is_executing": true
    }
   }
  },
  {
   "cell_type": "code",
   "execution_count": null,
   "outputs": [],
   "source": [
    "x_1 = np.linspace(-1, 1, 1000)\n",
    "y_1 = np.exp(-x_1**2 + x_1*.5 -.5)\n",
    "y_2 = np.exp(-x_1**2/2)\n",
    "\n",
    "fig, ax = plt.subplots(1,1, figsize=(8, 4))\n",
    "ax.plot(x_1[x_1>0], y_1[x_1>0], label=\"c=.60\", color=sns.color_palette(\"colorblind\")[0], lw=3)\n",
    "ax.plot(x_1[x_1>0], y_2[x_1>0], label=\"c=.70\", color=sns.color_palette(\"colorblind\")[1], lw=3,)\n",
    "ax.plot(x_1[x_1<=0], y_1[x_1<0], label=\"c=.60\", color=sns.color_palette(\"colorblind\")[0], lw=3)\n",
    "ax.plot(x_1[x_1<=0], y_2[x_1<0], label=\"c=.70\", color=sns.color_palette(\"colorblind\")[1], lw=3, ls='--')\n",
    "# // fill area between y_1[x_1>0] and y_2[x_1>0]\n",
    "ax.fill_between(x_1[x_1>0], y_1[x_1>0], y_2[x_1>0], color=sns.color_palette(\"colorblind\")[0], alpha=0.4)\n",
    "\n",
    "# ax.plot(x_1, y_1-y_2, label=\"Difference\", color='black')\n",
    "# ax.vlines(0, np.interp(0, x_1, y_1), np.interp(0, x_1, y_2), color='black', ls='--', lw=3)\n",
    "ax.set_title('Scenario 1', fontsize=20)\n",
    "ax.set_xticks(sorted(list(np.linspace(-1,1, 5))+[0]))\n",
    "ax.set_xticklabels([\"{:.2f}\".format(x) if x!=0 else \"$\\\\bar{k}_{{c}}$\" for x in sorted(list(np.linspace(-1,1, 5))+[0])], fontsize=20)\n",
    "fig.text(0.24, 0.34, '$\\mathbb{E}[T_0|K]$', ha='center', fontsize=20, color=sns.color_palette(\"colorblind\")[0])\n",
    "fig.text(0.74, 0.8, '$\\mathbb{E}[T_1|K]$', ha='center', fontsize=20, color=sns.color_palette(\"colorblind\")[1])\n",
    "fig.text(0.60, 0.672, '$\\\\tau_{i}$', ha='center', fontsize=20)\n",
    "ax.set_ylabel(\"Potential Outcome\", fontsize=20)\n",
    "ax.set_xlabel(\"Reject Score\", fontsize=20)\n",
    "ax.set_yticklabels([\"{:.2f}\".format(x) for x in ax.get_yticks()], fontsize=20)\n",
    "# ax.set_ylim(ymin=0)\n",
    "plt.savefig(\"{}/scenario1_example.png\".format(img_fold, target_cov), bbox_inches='tight', dpi=300)"
   ],
   "metadata": {
    "collapsed": false,
    "pycharm": {
     "is_executing": true
    }
   }
  },
  {
   "cell_type": "code",
   "execution_count": null,
   "outputs": [],
   "source": [
    "x_1 = np.linspace(-1, 1, 1000)\n",
    "y_1 = np.exp(-x_1**2 + x_1*.5 -.5)\n",
    "y_2 = np.exp(-x_1**2/2)\n",
    "\n",
    "fig, ax = plt.subplots(1,1, figsize=(8, 4))\n",
    "ax.plot(x_1[x_1>0], y_1[x_1>0], label=\"c=.60\", color=sns.color_palette(\"colorblind\")[0], lw=3, ls='--')\n",
    "ax.plot(x_1[x_1>0], y_2[x_1>0], label=\"c=.70\", color=sns.color_palette(\"colorblind\")[1], lw=3,)\n",
    "ax.plot(x_1[x_1<=0], y_1[x_1<0], label=\"c=.60\", color=sns.color_palette(\"colorblind\")[0], lw=3,)\n",
    "ax.plot(x_1[x_1<=0], y_2[x_1<0], label=\"c=.70\", color=sns.color_palette(\"colorblind\")[1], lw=3, ls='--')\n",
    "\n",
    "# ax.plot(x_1, y_1-y_2, label=\"Difference\", color='black')\n",
    "ax.vlines(0, np.interp(0, x_1, y_1), np.interp(0, x_1, y_2), color='black', ls='-.', lw=3)\n",
    "ax.set_title('Scenario 2', fontsize=20)\n",
    "ax.set_xticks(sorted(list(np.linspace(-1,1, 5))+[0]))\n",
    "ax.set_xticklabels([\"{:.2f}\".format(x) if x!=0 else \"$\\\\bar{k}_{{c}}$\" for x in sorted(list(np.linspace(-1,1, 5))+[0])], fontsize=20)\n",
    "fig.text(0.24, 0.34, '$\\mathbb{E}[T_0|K]$', ha='center', fontsize=20, color=sns.color_palette(\"colorblind\")[0])\n",
    "fig.text(0.74, 0.8, '$\\mathbb{E}[T_1|K]$', ha='center', fontsize=20, color=sns.color_palette(\"colorblind\")[1])\n",
    "fig.text(0.542, 0.672, '$\\\\tau_{\\\\mathtt{RD}}$', ha='center', fontsize=20)\n",
    "ax.set_ylabel(\"Potential Outcome\", fontsize=20)\n",
    "ax.set_xlabel(\"Reject Score\", fontsize=20)\n",
    "ax.set_yticklabels([\"{:.2f}\".format(x) for x in ax.get_yticks()], fontsize=20)\n",
    "# ax.set_ylim(ymin=0)\n",
    "plt.savefig(\"{}/scenario2_example.png\".format(img_fold, target_cov), bbox_inches='tight', dpi=300)"
   ],
   "metadata": {
    "collapsed": false,
    "pycharm": {
     "is_executing": true
    }
   }
  },
  {
   "cell_type": "code",
   "execution_count": null,
   "outputs": [],
   "source": [
    "ax_dict = {\n",
    "    \"hatespeech\": 2,\n",
    "    \"cifar10h\": 0,\n",
    "    \"galaxyzoo\": 1,\n",
    "    \"xray-airspace\": 3\n",
    "}\n",
    "\n",
    "\n",
    "best_classifier = {\n",
    "    \"hatespeech\": \"RS\",\n",
    "    \"cifar10h\": \"CC\",\n",
    "    \"galaxyzoo\": \"CC\",\n",
    "    \"xray-airspace\": \"RS\"\n",
    "}\n",
    "\n",
    "def plot_all_real_best(df, datasets, figsize=(20, 12), title=\"\", metric=\"coef_rob\"):\n",
    "    if metric == \"all\":\n",
    "        fig, ax = plt.subplots(2,len(datasets),figsize=figsize, sharey=\"row\", sharex=True)\n",
    "        fig.tight_layout() #\n",
    "    else:\n",
    "        fig, ax = plt.subplots(1,len(datasets),figsize=figsize, sharey=True)\n",
    "        fig.tight_layout() #\n",
    "    df = df.copy()\n",
    "    if metric == \"all\":\n",
    "        metrics = [\"ATT\", \"acc_system\"]\n",
    "        for metric in metrics:\n",
    "            for data in datasets:\n",
    "                classifier = best_classifier[data]\n",
    "                db = df[(df[\"data\"]==data) & (df['method']==classifier)].copy()\n",
    "                # target_covs = db[\"target_coverage\"].unique()\n",
    "                if metric == \"coef_rob\":\n",
    "                    pos = (0,ax_dict[data])\n",
    "                    target_covs = [0, .1, .2, .3, .4, .5, .6, .7, .8, .9]\n",
    "                    db = db[db[\"target_coverage\"].isin(target_covs)]\n",
    "                elif metric == \"system_acc\":\n",
    "                    pos = (1,ax_dict[data])\n",
    "                elif metric == \"ATT\":\n",
    "                    pos = (0,ax_dict[data])\n",
    "                    target_covs = [0, .1, .2, .3, .4, .5, .6, .7, .8, .9]\n",
    "                    db = db[db[\"target_coverage\"].isin(target_covs)]\n",
    "                else:\n",
    "                    pos = (1,ax_dict[data])\n",
    "                print(pos)\n",
    "                title = data\n",
    "                classifiers = db[\"method\"].unique()\n",
    "                if metric == \"coef_rob\":\n",
    "                    for c in classifiers:\n",
    "                        db_c = db[db[\"method\"] == c].copy()\n",
    "                        (_, caps, _) = ax[pos].errorbar(db_c[\"target_coverage\"], db_c[\"coef_rob\"], label=c, color=palette[c],yerr=(db_c[\"ci_rob_u\"]-db_c[\"ci_rob_l\"])/2, alpha=0.9, capsize=10,\n",
    "                                    elinewidth=4, marker=markers_dict[c], markersize=20, markeredgecolor = 'black',markeredgewidth = 0.5)\n",
    "                        for cap in caps:\n",
    "                            cap.set_markeredgewidth(8)\n",
    "                    if pos == 0:\n",
    "                        ax[pos].set_ylim(-.75, .75)\n",
    "                    ax[pos].hlines(y=0, linestyles='dashed', colors='black', xmin=-0.04, xmax=1.04, linewidth=4)\n",
    "                elif metric == \"ATT\":\n",
    "                    for c in classifiers:\n",
    "                        db_c = db[db[\"method\"] == c].copy()\n",
    "                        (_, caps, _) = ax[pos].errorbar(db_c[\"target_coverage\"], db_c[\"ATT\"], label=c, color=palette[c],yerr=(db_c[\"ci_u_ATT\"]-db_c[\"ci_l_ATT\"])/2, alpha=0.9, capsize=10,\n",
    "                                    elinewidth=4, marker=markers_dict[c], markersize=20, markeredgecolor = 'black',markeredgewidth = 0.5)\n",
    "                        for cap in caps:\n",
    "                            cap.set_markeredgewidth(8)\n",
    "                    if pos == (0,0):\n",
    "                        ax[pos].set_ylim(-.20, .40)\n",
    "                    ax[pos].hlines(y=0, linestyles='dashed', colors='black', xmin=-0.04, xmax=1.04, label=\"Null Effect\", linewidth=4)\n",
    "                elif metric == \"acc_system\":\n",
    "                    for c in classifiers:\n",
    "                        db_c = db[db[\"method\"] == c].copy()\n",
    "                        ax[pos].plot(db_c[\"target_coverage\"], db_c[metric], label=c, color=palette[c], alpha=0.9,\n",
    "                                 marker=markers_dict[c], markersize=20, markeredgecolor = 'black',markeredgewidth = 0.5)\n",
    "                    ax[pos].set_ylim(.67, 1.01)\n",
    "                if \"acc_system\" in metric:\n",
    "                    ax[pos].set_xlim(-0.04, 1.04)\n",
    "                else:\n",
    "                    ax[pos].set_xlim(0, 1)\n",
    "                dataset = db[\"data\"].unique()[0]\n",
    "                if (dataset in [\"hatespeech\", \"cifar10h\", \"xray-airspace\"])&(\"acc\" in metric):\n",
    "                    ax[pos].legend(loc=\"lower left\", fontsize=30, markerscale=1, fancybox=True, shadow=False)\n",
    "                else:\n",
    "                    ax[pos].legend(loc=\"upper left\", fontsize=30, markerscale=1, fancybox=True, shadow=False)\n",
    "                if pos[1] == 0:\n",
    "                    ax[pos].set_ylabel(metric_dict[metric], fontdict={\"fontsize\": 36})\n",
    "                else:\n",
    "                    ax[pos].set_ylabel(\"\")\n",
    "                # ax[pos].set_xlabel(\"Cutoff\", fontdict={\"fontsize\": 20})\n",
    "                if pos[0] == 0:\n",
    "                    ax[pos].set_title(title, fontsize=40)\n",
    "                ax[pos].set_xlabel(\"\")\n",
    "                fig.text(0.5, -0.04, \"Cutoff\", ha='center', fontsize=36)\n",
    "                labels_y = [str(\"{:.2f}\".format(x)).replace(\"0.\",\".\") for x in ax[pos].get_yticks()]\n",
    "                labels_y = [x if i%2==0 else \"\" for i, x in enumerate(labels_y)]\n",
    "                ax[pos].set_yticklabels(labels_y, fontsize=28)\n",
    "                target_covs = list(db[\"target_coverage\"].unique())\n",
    "                xticks = list(target_covs)\n",
    "                ax[pos].set_xticks(xticks)\n",
    "                labels_cov = [str(\"{:.2f}\".format(x)).replace(\"0.\",\".\") for x in target_covs]\n",
    "                print(labels_cov)\n",
    "                xticks_lab = [\"$\\\\bar{}_{}$\".format(\"{k}\",\"{\"+x+\"}\") for x in labels_cov]\n",
    "                xticks_lab = [tick if i%2==0 else \"\" for i, tick in enumerate(xticks_lab)]\n",
    "                print(xticks_lab)\n",
    "                ax[pos].set_xticklabels(xticks_lab, fontsize=28)\n",
    "\n",
    "        # ax.xaxis.set_major_formatter(FormatStrFormatter('%.2f'))\n",
    "                ax[pos].yaxis.set_major_formatter(FormatStrFormatter('%.2f'))\n",
    "    else:\n",
    "        for data in datasets:\n",
    "                classifier = best_classifier[data]\n",
    "                db = df[(df[\"data\"]==data) & (df['method']==classifier)].copy()\n",
    "                target_covs = db[\"target_coverage\"].unique()\n",
    "                pos = ax_dict[data]\n",
    "                print(pos)\n",
    "                title = data\n",
    "                classifiers = db[\"method\"].unique()\n",
    "                if metric == \"coef_rob\":\n",
    "                    for c in classifiers:\n",
    "                        db_c = db[db[\"method\"] == c].copy()\n",
    "                        (_, caps, _) = ax[pos].errorbar(db_c[\"target_coverage\"], db_c[\"coef_rob\"], label=c, color=palette[c],yerr=(db_c[\"ci_rob_u\"]-db_c[\"ci_rob_l\"])/2, alpha=0.9, capsize=10,\n",
    "                                    elinewidth=4, marker=markers_dict[c], markersize=20, markeredgecolor = 'black',markeredgewidth = 0.5)\n",
    "                        for cap in caps:\n",
    "                            cap.set_markeredgewidth(8)\n",
    "                    if pos == 0:\n",
    "                        ax[pos].set_ylim(-.75, .75)\n",
    "                    ax[pos].hlines(y=0, linestyles='dashed', colors='black', xmin=0, xmax=1, linewidth=4)\n",
    "                elif metric == \"acc_system\":\n",
    "                    for c in classifiers:\n",
    "                        db_c = db[db[\"method\"] == c].copy()\n",
    "                        ax[pos].plot(db_c[\"target_coverage\"], db_c[metric], label=c, color=palette[c], alpha=0.9,\n",
    "                                 marker=markers_dict[c], markersize=20, markeredgecolor = 'black',markeredgewidth = 0.5)\n",
    "                    ax[pos].set_ylim(.67, 1.01)\n",
    "                    class_all_acc = db_c[\"classifier_all_acc\"].max()\n",
    "                    human_all_acc = db_c[\"human_all_acc\"].max()\n",
    "                    # ax.hlines(y=db_c[\"classifier_all_acc\"].max(), linestyles='dashed', colors='black', xmin=0, xmax=1, linewidth=4, label = \"ML model accuracy\")\n",
    "                    # ax.hlines(y=db_c[\"human_all_acc\"].max(), linestyles='dashed', colors='black', xmin=0, xmax=1, linewidth=4, label = \"Human expert accuracy\")\n",
    "                    ax[pos].plot([0], [human_all_acc], label=\"Only Human\", color=\"black\", marker=\"P\", markersize=20, markeredgecolor = 'black',markeredgewidth = 0.5)\n",
    "                    ax[pos].plot([1], [class_all_acc], label=\"Only ML\", color=\"black\", marker=\"X\", markersize=20, markeredgecolor = 'black',markeredgewidth = 0.5)\n",
    "                elif metric == \"ATT\":\n",
    "                    for c in classifiers:\n",
    "                        db_c = db[db[\"method\"] == c].copy()\n",
    "                        (_, caps, _) = ax[pos].errorbar(db_c[\"target_coverage\"], db_c[\"ATT\"], label=c, color=palette[c],yerr=(db_c[\"ci_u_ATT\"]-db_c[\"ci_l_ATT\"])/2, alpha=0.9, capsize=10,\n",
    "                                    elinewidth=4, marker=markers_dict[c], markersize=20, markeredgecolor = 'black',markeredgewidth = 0.5)\n",
    "                        for cap in caps:\n",
    "                            cap.set_markeredgewidth(8)\n",
    "                    if pos == 0:\n",
    "                        ax[pos].set_ylim(-.75, .75)\n",
    "                    ax[pos].hlines(y=0, linestyles='dashed', colors='black', xmin=0, xmax=1, linewidth=4)\n",
    "                if \"acc_system\" in metric:\n",
    "                    ax[pos].set_xlim(-0.04, 1.04)\n",
    "                else:\n",
    "                    ax[pos].set_xlim(0, 1)\n",
    "                dataset = db[\"data\"].unique()[0]\n",
    "                if (dataset in [\"hatespeech\", \"cifar10h\", \"chestxray2\"])&(\"acc\" in metric):\n",
    "                    ax[pos].legend(loc=\"lower left\", fontsize=22, markerscale=1, fancybox=True, shadow=False)\n",
    "                else:\n",
    "                    ax[pos].legend(loc=\"upper left\", fontsize=22, markerscale=1, fancybox=True, shadow=False)\n",
    "                if pos == 0:\n",
    "                    ax[pos].set_ylabel(metric_dict[metric], fontdict={\"fontsize\": 20})\n",
    "                else:\n",
    "                    ax[pos].set_ylabel(\"\")\n",
    "                # ax[pos].set_xlabel(\"Cutoff\", fontdict={\"fontsize\": 20})\n",
    "                ax[pos].set_title(title, fontsize=40)\n",
    "                ax[pos].set_xlabel(\"\")\n",
    "                fig.text(0.5, -0.04, \"Cutoff\", ha='center', fontsize=20)\n",
    "                ax[pos].set_yticklabels([\"{:.2f}\".format(x) for x in ax[pos].get_yticks()], fontsize=20)\n",
    "                target_covs = [0, .1, .2, .3, .4, .5, .6, .7, .8, .9, 1]\n",
    "                xticks = list(target_covs)\n",
    "                ax[pos].set_xticks(xticks)\n",
    "                labels_cov = [str(\"{:.2f}\".format(x)).replace(\"0.\",\".\") for x in target_covs]\n",
    "                print(labels_cov)\n",
    "                xticks_lab = [\"$\\\\bar{}_{}$\".format(\"{k}\",\"{\"+x+\"}\") for x in labels_cov]\n",
    "                xticks_lab = [tick if i%2==0 else \"\" for i, tick in enumerate(xticks_lab)]\n",
    "                print(xticks_lab)\n",
    "                ax[pos].set_xticklabels(xticks_lab, fontsize=24)\n",
    "    plt.savefig(\"{}/{}_{}_allcoeffs_{}_oneaxis.png\".format(img_fold, title, \"best\", metric), bbox_inches='tight', dpi=300)\n",
    "\n",
    "\n",
    "\n",
    "plot_all_real_best(df.fillna(0), [\"hatespeech\",\"cifar10h\", \"galaxyzoo\", \"xray-airspace\"], figsize=(32, 12), metric=\"all\", title=\"all_real\")"
   ],
   "metadata": {
    "collapsed": false,
    "pycharm": {
     "is_executing": true
    }
   }
  },
  {
   "cell_type": "code",
   "execution_count": null,
   "outputs": [],
   "source": [
    "df[(df[\"data\"] == \"cifar10h\") & (df[\"method\"] == \"CC\")]"
   ],
   "metadata": {
    "collapsed": false,
    "pycharm": {
     "is_executing": true
    }
   }
  },
  {
   "cell_type": "code",
   "execution_count": null,
   "outputs": [],
   "source": [
    "df[(df[\"data\"] == \"xray-airspace\") & (df[\"method\"] == \"RS\")]"
   ],
   "metadata": {
    "collapsed": false,
    "pycharm": {
     "is_executing": true
    }
   }
  },
  {
   "cell_type": "code",
   "execution_count": null,
   "outputs": [],
   "source": [
    "df[(df[\"data\"] == \"galaxyzoo\") & (df[\"method\"] == \"CC\")]"
   ],
   "metadata": {
    "collapsed": false,
    "pycharm": {
     "is_executing": true
    }
   }
  },
  {
   "cell_type": "code",
   "execution_count": null,
   "outputs": [],
   "source": [
    "df[(df[\"data\"] == \"hatespeech\") & (df[\"method\"] == \"RS\")]"
   ],
   "metadata": {
    "collapsed": false,
    "pycharm": {
     "is_executing": true
    }
   }
  },
  {
   "cell_type": "code",
   "execution_count": null,
   "outputs": [],
   "source": [
    "df[(df[\"data\"] == \"synth\") & (df[\"method\"] == \"ASM\")]"
   ],
   "metadata": {
    "collapsed": false,
    "pycharm": {
     "is_executing": true
    }
   }
  },
  {
   "cell_type": "code",
   "execution_count": null,
   "outputs": [],
   "source": [
    "datasets = [\"synth\", \"hatespeech\", \"cifar10h\", \"galaxyzoo\", \"xray-airspace\"]\n",
    "for dataset in datasets:\n",
    "    print(dataset)\n",
    "    max_value = df[df[\"data\"] == dataset][\"acc_system\"].max()\n",
    "    print(df[(df[\"data\"] == dataset) & (df[\"acc_system\"] == max_value)][\"method\"])"
   ],
   "metadata": {
    "collapsed": false,
    "pycharm": {
     "is_executing": true
    }
   }
  },
  {
   "cell_type": "code",
   "execution_count": null,
   "outputs": [],
   "source": [
    "def plots_all_classifiers_fixed_cov(df, target_coverage, figsize=(20, 12), title=\"\", img_title=\"\", metric=\"ATT\"):\n",
    "    classifiers = df[\"method\"].unique()\n",
    "    db = df[df['target_coverage']==target_coverage].copy()\n",
    "    fig, ax = plt.subplots(1,1,figsize=figsize)\n",
    "    target_covs = db[\"target_coverage\"].unique()\n",
    "    for i,c in enumerate(sorted(classifiers)):\n",
    "        db_c = db[db[\"method\"] == c].copy()\n",
    "        if metric == \"coef_rob\":\n",
    "            if db_c is None or db_c.empty:\n",
    "                print(c)\n",
    "                (_, caps, _) = ax.errorbar(i, 0, label=c, color=palette[c],yerr=0, alpha=0.9, capsize=10,\n",
    "                        elinewidth=4, marker=markers_dict[c], markersize=20, markeredgecolor = 'black',markeredgewidth = 0.5)\n",
    "            else:\n",
    "                (_, caps, _) = ax.errorbar(i, db_c[\"coef_rob\"], label=c, color=palette[c],yerr=(db_c[\"ci_rob_u\"]-db_c[\"ci_rob_l\"])/2, fmt='o', alpha=0.9, capsize=10,\n",
    "                            elinewidth=4, marker=markers_dict[c], markersize=20, markeredgecolor = 'black',markeredgewidth = 0.5)\n",
    "            for cap in caps:\n",
    "                cap.set_markeredgewidth(8)\n",
    "        elif metric == \"ATT\":\n",
    "            target_covs = [0, .1, .2, .3, .4, .5, .6, .7, .8, .9]\n",
    "            db_c = db_c[db_c[\"target_coverage\"].isin(target_covs)]\n",
    "            (_, caps, _) = ax.errorbar(i, db_c[\"ATT\"], label=c, color=palette[c],yerr=(db_c[\"ci_u_ATT\"]-db_c[\"ci_l_ATT\"])/2, alpha=0.9, capsize=10,\n",
    "                        elinewidth=4, marker=markers_dict[c], markersize=20, markeredgecolor = 'black',markeredgewidth = 0.5)\n",
    "            for cap in caps:\n",
    "                cap.set_markeredgewidth(8)\n",
    "    ax.set_ylim(-.50, .50)\n",
    "    ax.set_xlim(-0.04, 1.04)\n",
    "    # ax.hlines(y=0, linestyles='dashed', colors='black', xmin=0, xmax=1, linewidth=4, label=\"Null Effect\")\n",
    "\n",
    "    limits_fig = (-.2, len(classifiers))\n",
    "    ax.hlines(y=0, linestyles='dashed', colors='black', xmin=limits_fig[0], xmax=limits_fig[1], linewidth=4, label=\"\")\n",
    "    ax.legend(loc=\"lower center\", fontsize=24, markerscale=1, fancybox=True, shadow=False, ncols=3)\n",
    "    ax.set_xlabel(\"Baselines\", fontdict={\"fontsize\": 28})\n",
    "    ax.set_ylabel(metric_dict[metric], fontdict={\"fontsize\": 28})\n",
    "    ax.set_yticklabels([\"{:.2f}\".format(x) for x in ax.get_yticks()], fontsize=20)\n",
    "    ax.set_xticks(range(len(classifiers)))\n",
    "    ax.set_xticklabels([\"{}\".format(x) for x in classifiers], fontsize=20, rotation=-45)\n",
    "    ax.yaxis.set_major_formatter(FormatStrFormatter('%.2f'))\n",
    "    ax.set_xlim(limits_fig[0], limits_fig[1])\n",
    "    ax.set_title(title, fontsize=20)\n",
    "    plt.savefig(\"{}/{}_{}_allBaselines.png\".format(img_fold, img_title, target_coverage), bbox_inches='tight', dpi=300)\n",
    "    return ax"
   ],
   "metadata": {
    "collapsed": false,
    "pycharm": {
     "is_executing": true
    }
   }
  },
  {
   "cell_type": "code",
   "execution_count": null,
   "outputs": [],
   "source": [
    "plots_all_classifiers_fixed_cov(df[df[\"data\"]==\"synth\"], .9, figsize=(8,6), img_title=\"synth\".format(\"ATT\"), metric=\"ATT\")"
   ],
   "metadata": {
    "collapsed": false,
    "pycharm": {
     "is_executing": true
    }
   }
  },
  {
   "cell_type": "markdown",
   "source": [
    "## appendix Plot"
   ],
   "metadata": {
    "collapsed": false
   }
  },
  {
   "cell_type": "code",
   "execution_count": null,
   "outputs": [],
   "source": [
    "dict_best = {\n",
    "    \"synth\": \"ASM\",\n",
    "    \"hatespeech\": \"RS\",\n",
    "    \"cifar10h\": \"CC\",\n",
    "    \"galaxyzoo\": \"CC\",\n",
    "    \"xray-airspace\": \"RS\"\n",
    "}\n",
    "\n",
    "dict_cols = {\n",
    "    \"synth\": 0,\n",
    "    \"hatespeech\": 3,\n",
    "    \"cifar10h\": 1,\n",
    "    \"galaxyzoo\": 2,\n",
    "    \"xray-airspace\": 4\n",
    "}\n",
    "\n",
    "\n",
    "def plot_all_best_checks_placebo(ylim=None):\n",
    "    filename_orig = \"../results/all_results.csv\"\n",
    "    filename_pl = \"../results/all_resultsPLACEBO.csv\"\n",
    "    filename_pl_low = \"../results/all_resultsPLACEBOCUTOFFS_LOW.csv\"\n",
    "    filename_pl_high = \"../results/all_resultsPLACEBOCUTOFFS_HIGH.csv\"\n",
    "    db_orig = pd.read_csv(filename_orig).fillna(0)\n",
    "    db_pl = pd.read_csv(filename_pl).fillna(0)\n",
    "    db_pl_low = pd.read_csv(filename_pl_low).fillna(0)\n",
    "    db_pl_high = pd.read_csv(filename_pl_high).fillna(0)\n",
    "    fig, ax = plt.subplots(4,5, figsize=(28, 28), sharey=True, sharex=True)\n",
    "    fig.tight_layout() #\n",
    "    target_coverages = [.1, .2, .3, .4, .5, .6, .7, .8, .9]\n",
    "    db_orig = db_orig[db_orig[\"target_coverage\"].isin(target_coverages)]\n",
    "    db_pl = db_pl[db_pl[\"target_coverage\"].isin(target_coverages)]\n",
    "    db_pl_low = db_pl_low[db_pl_low[\"target_coverage\"].isin(target_coverages)]\n",
    "    db_pl_high = db_pl_high[db_pl_high[\"target_coverage\"].isin(target_coverages)]\n",
    "    for data in [\"synth\", \"hatespeech\", \"cifar10h\", \"galaxyzoo\", \"xray-airspace\"]:\n",
    "        tmp = db_orig[(db_orig[\"data\"]==data) & (db_orig[\"method\"] == dict_best[data])].copy()\n",
    "        tmp_pl = db_pl[(db_pl[\"data\"]==data) & (db_pl[\"method\"] == dict_best[data])].copy()\n",
    "        tmp_pl_low = db_pl_low[(db_pl_low[\"data\"]==data) & (db_pl_low[\"method\"] == dict_best[data])].copy()\n",
    "        tmp_pl_high = db_pl_high[(db_pl_high[\"data\"]==data) & (db_pl_high[\"method\"] == dict_best[data])].copy()\n",
    "        (_, caps, _) = ax[0, dict_cols[data]].errorbar(tmp[\"target_coverage\"], tmp[\"coef_rob\"], label=dict_best[data], color=palette[dict_best[data]],yerr=(tmp[\"ci_rob_u\"]-tmp[\"ci_rob_l\"])/2, alpha=0.9, capsize=10,\n",
    "                        elinewidth=4, marker=markers_dict[dict_best[data]], markersize=20, markeredgecolor = 'black',markeredgewidth = 0.5)\n",
    "        for cap in caps:\n",
    "                cap.set_markeredgewidth(8)\n",
    "        if (ylim is not None) & (dict_cols[data] == 0):\n",
    "            ax[0, dict_cols[data]].set_ylim(ylim)\n",
    "        ax[0, dict_cols[data]].hlines(y=0, linestyles='dashed', colors='black', xmin=0, xmax=1, linewidth=4, label=\"Null Effect\")\n",
    "        ax[0, dict_cols[data]].set_title(data, fontsize=36)\n",
    "        ax[0, dict_cols[data]].set_xlabel(\"\")\n",
    "        #second row -- placebo low\n",
    "        (_, caps, _) = ax[1, dict_cols[data]].errorbar(tmp_pl_low[\"target_coverage\"], tmp_pl_low[\"coef_rob\"], label=dict_best[data], color=palette[dict_best[data]],yerr=(tmp_pl_low[\"ci_rob_u\"]-tmp_pl_low[\"ci_rob_l\"])/2, alpha=0.9, capsize=10,\n",
    "                        elinewidth=4, marker=markers_dict[dict_best[data]], markersize=20, markeredgecolor = 'black',markeredgewidth = 0.5)\n",
    "        for cap in caps:\n",
    "                cap.set_markeredgewidth(8)\n",
    "        ax[1, dict_cols[data]].hlines(y=0, linestyles='dashed', colors='black', xmin=0, xmax=1, linewidth=4, label=\"Null Effect\")\n",
    "        if (ylim is not None) & (dict_cols[data] == 0):\n",
    "            ax[1, dict_cols[data]].set_ylim(ylim)\n",
    "        #third row -- placebo high\n",
    "        (_, caps, _) = ax[2, dict_cols[data]].errorbar(tmp_pl_high[\"target_coverage\"], tmp_pl_high[\"coef_rob\"], label=dict_best[data], color=palette[dict_best[data]],yerr=(tmp_pl_high[\"ci_rob_u\"]-tmp_pl_high[\"ci_rob_l\"])/2, alpha=0.9, capsize=10,\n",
    "                        elinewidth=4, marker=markers_dict[dict_best[data]], markersize=20, markeredgecolor = 'black',markeredgewidth = 0.5)\n",
    "        for cap in caps:\n",
    "                cap.set_markeredgewidth(8)\n",
    "        ax[2, dict_cols[data]].hlines(y=0, linestyles='dashed', colors='black', xmin=0, xmax=1, linewidth=4, label=\"Null Effect\")\n",
    "        if (ylim is not None) & (dict_cols[data] == 0):\n",
    "            ax[2, dict_cols[data]].set_ylim(ylim)\n",
    "        #fourth row -- placebo outcome\n",
    "        (_, caps, _) = ax[3, dict_cols[data]].errorbar(tmp_pl[\"target_coverage\"], tmp_pl[\"coef_rob\"], label=dict_best[data], color=palette[dict_best[data]],yerr=(tmp_pl[\"ci_rob_u\"]-tmp_pl[\"ci_rob_l\"])/2, alpha=0.9, capsize=10,\n",
    "                        elinewidth=4, marker=markers_dict[dict_best[data]], markersize=20, markeredgecolor = 'black',markeredgewidth = 0.5)\n",
    "        for cap in caps:\n",
    "                cap.set_markeredgewidth(8)\n",
    "        ax[3, dict_cols[data]].hlines(y=0, linestyles='dashed', colors='black', xmin=0, xmax=1, linewidth=4, label=\"Null Effect\")\n",
    "        if (ylim is not None) & (dict_cols[data] == 0):\n",
    "            ax[3, dict_cols[data]].set_ylim(ylim)\n",
    "    fig.text(0.5, -0.01, \"Cutoff\", ha='center', fontsize=36)\n",
    "    # fig.text(-0.01, 0.5, \"$\\\\tau_{\\mathtt{RD}}$\", va='center', rotation='vertical', fontsize=36)\n",
    "    ax[3,dict_cols[data]].set_xticks(target_coverages)\n",
    "    xticks = [\"$\"+\"{:.2f}\".format(x).replace(\"0.\",\".\")+\"$\" for x in target_coverages]\n",
    "    xticks = [el if i%2 ==0 else \"\" for i,el in enumerate(xticks)]\n",
    "    ax[3, 0].set_xticklabels(xticks, fontsize=28)\n",
    "    ax[3, 1].set_xticklabels(xticks, fontsize=28)\n",
    "    ax[3, 2].set_xticklabels(xticks, fontsize=28)\n",
    "    ax[3, 3].set_xticklabels(xticks, fontsize=28)\n",
    "    ax[3, 4].set_xticklabels(xticks, fontsize=28)\n",
    "    ax[0, 0].legend(loc=\"upper center\", fontsize=32, markerscale=1, fancybox=True, shadow=False)\n",
    "    ax[0, 1].legend(loc=\"lower center\", fontsize=32, markerscale=1, fancybox=True, shadow=False)\n",
    "    ax[0, 2].legend(loc=\"lower center\", fontsize=32, markerscale=1, fancybox=True, shadow=False)\n",
    "    ax[0, 3].legend(loc=\"lower center\", fontsize=32, markerscale=1, fancybox=True, shadow=False)\n",
    "    ax[0, 4].legend(loc=\"upper center\", fontsize=32, markerscale=1, fancybox=True, shadow=False)\n",
    "    ax[0,0].set_ylabel(\"$\\hat{\\\\tau}_{\\mathtt{RD}}$\", fontsize=32)\n",
    "    ax[1,0].set_ylabel(\"$\\hat{\\\\tau}_{\\mathtt{RD}}-$\"+\" cutoff lower\", fontsize=32)\n",
    "    ax[2,0].set_ylabel(\"$\\hat{\\\\tau}_{\\mathtt{RD}}-$\"+ \"cutoff higher\", fontsize=32)\n",
    "    ax[3,0].set_ylabel(\"$\\hat{\\\\tau}_{\\mathtt{RD}}-$\"+\" placebo outcome\", fontsize=32)\n",
    "    # ax[0,0].set_ylabel(\"$\\\\tau_{\\mathtt{RD}}$\", fontsize=36)\n",
    "    # ax[1,0].set_ylabel(\"Robustness Coefficient\", fontsize=36)\n",
    "    # ax[2,0].set_ylabel(\"Robustness Coefficient\", fontsize=36)\n",
    "    # ax[3,0].set_ylabel(\"Robustness Coefficient\", fontsize=36)\n",
    "    plt.savefig(\"{}/all_best_checks_placebo.png\".format(img_fold), bbox_inches='tight', dpi=300)\n",
    "    plt.show()\n",
    "\n"
   ],
   "metadata": {
    "collapsed": false,
    "pycharm": {
     "is_executing": true
    }
   }
  },
  {
   "cell_type": "code",
   "execution_count": null,
   "outputs": [],
   "source": [
    "plot_all_best_checks_placebo()"
   ],
   "metadata": {
    "collapsed": false,
    "pycharm": {
     "is_executing": true
    }
   }
  }
 ],
 "metadata": {
  "kernelspec": {
   "display_name": "Python 3",
   "language": "python",
   "name": "python3"
  },
  "language_info": {
   "codemirror_mode": {
    "name": "ipython",
    "version": 2
   },
   "file_extension": ".py",
   "mimetype": "text/x-python",
   "name": "python",
   "nbconvert_exporter": "python",
   "pygments_lexer": "ipython2",
   "version": "2.7.6"
  }
 },
 "nbformat": 4,
 "nbformat_minor": 0
}
